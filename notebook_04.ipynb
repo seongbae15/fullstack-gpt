{
 "cells": [
  {
   "cell_type": "code",
   "execution_count": 59,
   "metadata": {},
   "outputs": [],
   "source": [
    "from langchain.chat_models import ChatOpenAI\n",
    "from langchain.prompts import PromptTemplate, ChatPromptTemplate\n",
    "from langchain.prompts.few_shot import (\n",
    "    FewShotPromptTemplate,\n",
    "    FewShotChatMessagePromptTemplate,\n",
    ")\n",
    "from langchain.callbacks import StreamingStdOutCallbackHandler, get_openai_callback\n",
    "from langchain.prompts.example_selector import LengthBasedExampleSelector\n",
    "from langchain.prompts.example_selector.base import BaseExampleSelector\n",
    "from langchain.prompts import load_prompt\n",
    "from langchain.prompts.pipeline import PipelinePromptTemplate\n",
    "from langchain.globals import set_llm_cache, set_debug\n",
    "from langchain.cache import InMemoryCache, SQLiteCache\n",
    "\n",
    "from langchain.llms.openai import OpenAI\n",
    "from langchain.llms.loading import load_llm"
   ]
  },
  {
   "cell_type": "markdown",
   "metadata": {},
   "source": [
    "# 4.1 FewShotPromptTemplate"
   ]
  },
  {
   "cell_type": "code",
   "execution_count": 2,
   "metadata": {},
   "outputs": [],
   "source": [
    "chat = ChatOpenAI(\n",
    "    model=\"gpt-4o-mini\",\n",
    "    temperature=0.1,\n",
    "    streaming=True,\n",
    "    callbacks=[\n",
    "        StreamingStdOutCallbackHandler(),\n",
    "    ],\n",
    ")"
   ]
  },
  {
   "cell_type": "code",
   "execution_count": 3,
   "metadata": {},
   "outputs": [
    {
     "data": {
      "text/plain": [
       "PromptTemplate(input_variables=['country'], template='What is the capital of {country}?')"
      ]
     },
     "execution_count": 3,
     "metadata": {},
     "output_type": "execute_result"
    }
   ],
   "source": [
    "t = PromptTemplate.from_template(\"What is the capital of {country}?\")\n",
    "t"
   ]
  },
  {
   "cell_type": "code",
   "execution_count": 4,
   "metadata": {},
   "outputs": [
    {
     "data": {
      "text/plain": [
       "'What is the capital of Spain?'"
      ]
     },
     "execution_count": 4,
     "metadata": {},
     "output_type": "execute_result"
    }
   ],
   "source": [
    "t.format(country=\"Spain\")"
   ]
  },
  {
   "cell_type": "code",
   "execution_count": 5,
   "metadata": {},
   "outputs": [],
   "source": [
    "examples = [\n",
    "    {\n",
    "        \"question\": \"What do you know about France?\",\n",
    "        \"answer\": \"\"\"\n",
    "            Here is what I know:\n",
    "            Capital: Paris\n",
    "            Language: French\n",
    "            Food: Wine and Cheese\n",
    "            Currency: Euro\n",
    "            \"\"\",\n",
    "    },\n",
    "    {\n",
    "        \"question\": \"What do you know about Italy?\",\n",
    "        \"answer\": \"\"\"\n",
    "            I know this:\n",
    "            Capital: Rome\n",
    "            Language: Italian\n",
    "            Food: Pizza and Pasta\n",
    "            Currency: Euro\n",
    "            \"\"\",\n",
    "    },\n",
    "    {\n",
    "        \"question\": \"What do you know about Greece?\",\n",
    "        \"answer\": \"\"\"\n",
    "            I know this:\n",
    "            Capital: Athens\n",
    "            Language: Greek\n",
    "            Food: Souvlaki and Feta Cheese\n",
    "            Currency: Euro\n",
    "            \"\"\",\n",
    "    },\n",
    "]"
   ]
  },
  {
   "cell_type": "code",
   "execution_count": 6,
   "metadata": {},
   "outputs": [
    {
     "name": "stdout",
     "output_type": "stream",
     "text": [
      "Greece is a country located in southeastern Europe, known for its rich history, cultural heritage, and stunning landscapes. Here are some key points about Greece:\n",
      "\n",
      "1. **Geography**: Greece is situated on the southern tip of the Balkan Peninsula and is bordered by Albania, North Macedonia, Bulgaria, and Turkey. It has a vast coastline along the Aegean, Ionian, and Mediterranean Seas, and is made up of numerous islands, with Crete being the largest.\n",
      "\n",
      "2. **History**: Greece is often referred to as the cradle of Western civilization. It was the birthplace of democracy, philosophy, theater, and the Olympic Games. Ancient Greece was home to famous city-states like Athens and Sparta, and notable figures such as Socrates, Plato, and Aristotle.\n",
      "\n",
      "3. **Culture**: Greek culture is characterized by its contributions to art, literature, and science. The country has a rich tradition of mythology, with gods and goddesses like Zeus, Athena, and Apollo. Greek cuisine is also famous, featuring dishes like moussaka, souvlaki, and baklava.\n",
      "\n",
      "4. **Language**: The official language is Greek, which has a history that dates back thousands of years. Modern Greek is derived from Ancient Greek, and the language has evolved significantly over time.\n",
      "\n",
      "5. **Economy**: Greece's economy is diverse, with key sectors including tourism, shipping, agriculture, and manufacturing. Tourism is particularly important, as Greece attracts millions of visitors each year to its historical sites, islands, and natural beauty.\n",
      "\n",
      "6. **Political System**: Greece is a parliamentary republic. The President is the head of state, while the Prime Minister is the head of government. The country has a multi-party system.\n",
      "\n",
      "7. **Religion**: The predominant religion in Greece is Eastern Orthodox Christianity, which plays a significant role in the cultural and social life of the country.\n",
      "\n",
      "8. **Modern Issues**: Greece has faced economic challenges in recent years, particularly during the debt crisis that began in 2009. This led to austerity measures and significant social and political changes.\n",
      "\n",
      "9. **UNESCO World Heritage Sites**: Greece is home to numerous UNESCO World Heritage Sites, including the Acropolis of Athens, the archaeological site of Delphi, and the monasteries of Meteora.\n",
      "\n",
      "10. **Natural Beauty**: Greece is known for its stunning landscapes, including mountains, beaches, and islands. Popular destinations include Santorini, Mykonos, and the Peloponnese.\n",
      "\n",
      "Overall, Greece is a country with a profound historical legacy and a vibrant contemporary culture, making it a fascinating place to explore."
     ]
    },
    {
     "data": {
      "text/plain": [
       "\"Greece is a country located in southeastern Europe, known for its rich history, cultural heritage, and stunning landscapes. Here are some key points about Greece:\\n\\n1. **Geography**: Greece is situated on the southern tip of the Balkan Peninsula and is bordered by Albania, North Macedonia, Bulgaria, and Turkey. It has a vast coastline along the Aegean, Ionian, and Mediterranean Seas, and is made up of numerous islands, with Crete being the largest.\\n\\n2. **History**: Greece is often referred to as the cradle of Western civilization. It was the birthplace of democracy, philosophy, theater, and the Olympic Games. Ancient Greece was home to famous city-states like Athens and Sparta, and notable figures such as Socrates, Plato, and Aristotle.\\n\\n3. **Culture**: Greek culture is characterized by its contributions to art, literature, and science. The country has a rich tradition of mythology, with gods and goddesses like Zeus, Athena, and Apollo. Greek cuisine is also famous, featuring dishes like moussaka, souvlaki, and baklava.\\n\\n4. **Language**: The official language is Greek, which has a history that dates back thousands of years. Modern Greek is derived from Ancient Greek, and the language has evolved significantly over time.\\n\\n5. **Economy**: Greece's economy is diverse, with key sectors including tourism, shipping, agriculture, and manufacturing. Tourism is particularly important, as Greece attracts millions of visitors each year to its historical sites, islands, and natural beauty.\\n\\n6. **Political System**: Greece is a parliamentary republic. The President is the head of state, while the Prime Minister is the head of government. The country has a multi-party system.\\n\\n7. **Religion**: The predominant religion in Greece is Eastern Orthodox Christianity, which plays a significant role in the cultural and social life of the country.\\n\\n8. **Modern Issues**: Greece has faced economic challenges in recent years, particularly during the debt crisis that began in 2009. This led to austerity measures and significant social and political changes.\\n\\n9. **UNESCO World Heritage Sites**: Greece is home to numerous UNESCO World Heritage Sites, including the Acropolis of Athens, the archaeological site of Delphi, and the monasteries of Meteora.\\n\\n10. **Natural Beauty**: Greece is known for its stunning landscapes, including mountains, beaches, and islands. Popular destinations include Santorini, Mykonos, and the Peloponnese.\\n\\nOverall, Greece is a country with a profound historical legacy and a vibrant contemporary culture, making it a fascinating place to explore.\""
      ]
     },
     "execution_count": 6,
     "metadata": {},
     "output_type": "execute_result"
    }
   ],
   "source": [
    "chat.predict(\"What do you know about Greece?\")"
   ]
  },
  {
   "cell_type": "code",
   "execution_count": 7,
   "metadata": {},
   "outputs": [],
   "source": [
    "example_template = \"\"\"\n",
    "    Human: {question}\n",
    "    AI: {answer}\n",
    "\"\"\"\n",
    "\n",
    "example_prompt = PromptTemplate.from_template(example_template)"
   ]
  },
  {
   "cell_type": "code",
   "execution_count": 8,
   "metadata": {},
   "outputs": [
    {
     "data": {
      "text/plain": [
       "FewShotPromptTemplate(input_variables=['country'], examples=[{'question': 'What do you know about France?', 'answer': '\\n            Here is what I know:\\n            Capital: Paris\\n            Language: French\\n            Food: Wine and Cheese\\n            Currency: Euro\\n            '}, {'question': 'What do you know about Italy?', 'answer': '\\n            I know this:\\n            Capital: Rome\\n            Language: Italian\\n            Food: Pizza and Pasta\\n            Currency: Euro\\n            '}, {'question': 'What do you know about Greece?', 'answer': '\\n            I know this:\\n            Capital: Athens\\n            Language: Greek\\n            Food: Souvlaki and Feta Cheese\\n            Currency: Euro\\n            '}], example_prompt=PromptTemplate(input_variables=['answer', 'question'], template='\\n    Human: {question}\\n    AI: {answer}\\n'), suffix='Human: What do you know about {country}?')"
      ]
     },
     "execution_count": 8,
     "metadata": {},
     "output_type": "execute_result"
    }
   ],
   "source": [
    "prompt = FewShotPromptTemplate(\n",
    "    example_prompt=example_prompt,\n",
    "    examples=examples,\n",
    "    suffix=\"Human: What do you know about {country}?\",\n",
    "    input_variables=[\"country\"],\n",
    ")\n",
    "\n",
    "prompt"
   ]
  },
  {
   "cell_type": "code",
   "execution_count": 9,
   "metadata": {},
   "outputs": [
    {
     "data": {
      "text/plain": [
       "'\\n    Human: What do you know about France?\\n    AI: \\n            Here is what I know:\\n            Capital: Paris\\n            Language: French\\n            Food: Wine and Cheese\\n            Currency: Euro\\n            \\n\\n\\n\\n    Human: What do you know about Italy?\\n    AI: \\n            I know this:\\n            Capital: Rome\\n            Language: Italian\\n            Food: Pizza and Pasta\\n            Currency: Euro\\n            \\n\\n\\n\\n    Human: What do you know about Greece?\\n    AI: \\n            I know this:\\n            Capital: Athens\\n            Language: Greek\\n            Food: Souvlaki and Feta Cheese\\n            Currency: Euro\\n            \\n\\n\\nHuman: What do you know about Germany?'"
      ]
     },
     "execution_count": 9,
     "metadata": {},
     "output_type": "execute_result"
    }
   ],
   "source": [
    "prompt.format(country=\"Germany\")"
   ]
  },
  {
   "cell_type": "code",
   "execution_count": 10,
   "metadata": {},
   "outputs": [
    {
     "name": "stdout",
     "output_type": "stream",
     "text": [
      "AI: \n",
      "            I know this:\n",
      "            Capital: Berlin\n",
      "            Language: German\n",
      "            Food: Sausages and Sauerkraut\n",
      "            Currency: Euro"
     ]
    },
    {
     "data": {
      "text/plain": [
       "AIMessageChunk(content='AI: \\n            I know this:\\n            Capital: Berlin\\n            Language: German\\n            Food: Sausages and Sauerkraut\\n            Currency: Euro')"
      ]
     },
     "execution_count": 10,
     "metadata": {},
     "output_type": "execute_result"
    }
   ],
   "source": [
    "chain = prompt | chat\n",
    "\n",
    "chain.invoke({\"country\": \"Germnay\"})"
   ]
  },
  {
   "cell_type": "markdown",
   "metadata": {},
   "source": [
    "# 4.2 FewShowChatMessagePromptTemplate"
   ]
  },
  {
   "cell_type": "code",
   "execution_count": 11,
   "metadata": {},
   "outputs": [
    {
     "name": "stdout",
     "output_type": "stream",
     "text": [
      "\n",
      "            I know this:\n",
      "            Capital: Seoul\n",
      "            Language: Korean\n",
      "            Food: Kimchi and Bibimbap\n",
      "            Currency: South Korean Won (KRW)\n",
      "            "
     ]
    },
    {
     "data": {
      "text/plain": [
       "AIMessageChunk(content='\\n            I know this:\\n            Capital: Seoul\\n            Language: Korean\\n            Food: Kimchi and Bibimbap\\n            Currency: South Korean Won (KRW)\\n            ')"
      ]
     },
     "execution_count": 11,
     "metadata": {},
     "output_type": "execute_result"
    }
   ],
   "source": [
    "examples = [\n",
    "    {\n",
    "        \"country\": \"France?\",\n",
    "        \"answer\": \"\"\"\n",
    "            Here is what I know:\n",
    "            Capital: Paris\n",
    "            Language: French\n",
    "            Food: Wine and Cheese\n",
    "            Currency: Euro\n",
    "            \"\"\",\n",
    "    },\n",
    "    {\n",
    "        \"country\": \"Italy?\",\n",
    "        \"answer\": \"\"\"\n",
    "            I know this:\n",
    "            Capital: Rome\n",
    "            Language: Italian\n",
    "            Food: Pizza and Pasta\n",
    "            Currency: Euro\n",
    "            \"\"\",\n",
    "    },\n",
    "    {\n",
    "        \"country\": \"Greece?\",\n",
    "        \"answer\": \"\"\"\n",
    "            I know this:\n",
    "            Capital: Athens\n",
    "            Language: Greek\n",
    "            Food: Souvlaki and Feta Cheese\n",
    "            Currency: Euro\n",
    "            \"\"\",\n",
    "    },\n",
    "]\n",
    "\n",
    "example_prompt = ChatPromptTemplate.from_messages(\n",
    "    [\n",
    "        (\"human\", \"What do you know about {country}?\"),\n",
    "        (\"ai\", \"{answer}\"),\n",
    "    ]\n",
    ")\n",
    "\n",
    "fs_example_prompt = FewShotChatMessagePromptTemplate(\n",
    "    example_prompt=example_prompt,\n",
    "    examples=examples,\n",
    ")\n",
    "\n",
    "final_prompt = ChatPromptTemplate.from_messages(\n",
    "    [\n",
    "        (\"system\", \"You are a geography expert. Youu give short answers.\"),\n",
    "        fs_example_prompt,\n",
    "        (\"human\", \"What do you know about {country}?\"),\n",
    "    ]\n",
    ")\n",
    "\n",
    "chain = final_prompt | chat\n",
    "\n",
    "chain.invoke({\"country\": \"Republic of Korea\"})"
   ]
  },
  {
   "cell_type": "markdown",
   "metadata": {},
   "source": [
    "# 4.3 LengthBasedExampleSelector"
   ]
  },
  {
   "cell_type": "code",
   "execution_count": 12,
   "metadata": {},
   "outputs": [],
   "source": [
    "from typing import Any, Dict\n",
    "\n",
    "\n",
    "class RandomExapleSelector(BaseExampleSelector):\n",
    "\n",
    "    def __init__(self, examples):\n",
    "        self.examples = examples\n",
    "\n",
    "    def add_example(self, example):\n",
    "        return super().add_example(example)\n",
    "\n",
    "    def select_examples(self, input_variables):\n",
    "        from random import choice\n",
    "\n",
    "        return [choice(self.examples)]"
   ]
  },
  {
   "cell_type": "code",
   "execution_count": 13,
   "metadata": {},
   "outputs": [
    {
     "data": {
      "text/plain": [
       "'\\n    Human: What do you know about Greece?\\n    AI: \\n            I know this:\\n            Capital: Athens\\n            Language: Greek\\n            Food: Souvlaki and Feta Cheese\\n            Currency: Euro\\n            \\n\\n\\nHuman: What do you know about Brazil?'"
      ]
     },
     "execution_count": 13,
     "metadata": {},
     "output_type": "execute_result"
    }
   ],
   "source": [
    "examples = [\n",
    "    {\n",
    "        \"question\": \"What do you know about France?\",\n",
    "        \"answer\": \"\"\"\n",
    "            Here is what I know:\n",
    "            Capital: Paris\n",
    "            Language: French\n",
    "            Food: Wine and Cheese\n",
    "            Currency: Euro\n",
    "            \"\"\",\n",
    "    },\n",
    "    {\n",
    "        \"question\": \"What do you know about Italy?\",\n",
    "        \"answer\": \"\"\"\n",
    "            I know this:\n",
    "            Capital: Rome\n",
    "            Language: Italian\n",
    "            Food: Pizza and Pasta\n",
    "            Currency: Euro\n",
    "            \"\"\",\n",
    "    },\n",
    "    {\n",
    "        \"question\": \"What do you know about Greece?\",\n",
    "        \"answer\": \"\"\"\n",
    "            I know this:\n",
    "            Capital: Athens\n",
    "            Language: Greek\n",
    "            Food: Souvlaki and Feta Cheese\n",
    "            Currency: Euro\n",
    "            \"\"\",\n",
    "    },\n",
    "]\n",
    "\n",
    "example_template = \"\"\"\n",
    "    Human: {question}\n",
    "    AI: {answer}\n",
    "\"\"\"\n",
    "\n",
    "example_prompt = PromptTemplate.from_template(example_template)\n",
    "\n",
    "# example_selector = LengthBasedExampleSelector(\n",
    "#     examples=examples, example_prompt=example_prompt, max_length=120\n",
    "# )\n",
    "\n",
    "example_selector = RandomExapleSelector(examples=examples)\n",
    "\n",
    "prompt = FewShotPromptTemplate(\n",
    "    example_prompt=example_prompt,\n",
    "    example_selector=example_selector,\n",
    "    suffix=\"Human: What do you know about {country}?\",\n",
    "    input_variables=[\"country\"],\n",
    ")\n",
    "\n",
    "prompt.format(country=\"Brazil\")\n",
    "\n",
    "# final_prompt = ChatPromptTemplate.from_messages([\n",
    "#     (\"system\", \"You are a geography expert\"),\n",
    "#     fs_example_prompt,\n",
    "#     (\"human\", \"What do you know about {country}?\")\n",
    "# ])\n",
    "\n",
    "\n",
    "# chain = final_prompt | chat\n",
    "\n",
    "# chain.invoke({\"country\": \"Republic of Korea\"})"
   ]
  },
  {
   "cell_type": "markdown",
   "metadata": {},
   "source": [
    "# 4.4 Serialization and Composition"
   ]
  },
  {
   "cell_type": "code",
   "execution_count": 14,
   "metadata": {},
   "outputs": [
    {
     "data": {
      "text/plain": [
       "'What is the capital of South Korea'"
      ]
     },
     "execution_count": 14,
     "metadata": {},
     "output_type": "execute_result"
    }
   ],
   "source": [
    "# load prompt in json format.\n",
    "\n",
    "prompt_json = load_prompt(\"./prompt.json\")\n",
    "\n",
    "prompt_json.format(country=\"South Korea\")"
   ]
  },
  {
   "cell_type": "code",
   "execution_count": 15,
   "metadata": {},
   "outputs": [
    {
     "data": {
      "text/plain": [
       "'What is the capital of France'"
      ]
     },
     "execution_count": 15,
     "metadata": {},
     "output_type": "execute_result"
    }
   ],
   "source": [
    "# load prompt in yaml format.\n",
    "\n",
    "prompt_yaml = load_prompt(\"./prompt.json\")\n",
    "\n",
    "prompt_yaml.format(country=\"France\")"
   ]
  },
  {
   "cell_type": "code",
   "execution_count": 16,
   "metadata": {},
   "outputs": [
    {
     "data": {
      "text/plain": [
       "'\\n\\nYou are a role playing assistant.\\nAnd you are impersonating a Assassin\\n\\n\\n\\nThis is an example of how you talk:\\n\\nHuman: What is your location\\nYou: Shhhh, That is secret\\n\\n\\n\\nStart now!\\n\\nHuman: Who is your target?\\nYou:\\n\\n'"
      ]
     },
     "execution_count": 16,
     "metadata": {},
     "output_type": "execute_result"
    }
   ],
   "source": [
    "# pipeline\n",
    "\n",
    "intro = PromptTemplate.from_template(\n",
    "    \"\"\"\n",
    "You are a role playing assistant.\n",
    "And you are impersonating a {character}\n",
    "\"\"\"\n",
    ")\n",
    "\n",
    "example = PromptTemplate.from_template(\n",
    "    \"\"\"\n",
    "This is an example of how you talk:\n",
    "\n",
    "Human: {example_question}\n",
    "You: {example_answer}\n",
    "\"\"\"\n",
    ")\n",
    "\n",
    "start = PromptTemplate.from_template(\n",
    "    \"\"\"\n",
    "Start now!\n",
    "\n",
    "Human: {question}\n",
    "You:\n",
    "\"\"\"\n",
    ")\n",
    "\n",
    "final = PromptTemplate.from_template(\n",
    "    \"\"\"\n",
    "{intro}\n",
    "\n",
    "{example}\n",
    "\n",
    "{start}\n",
    "\"\"\"\n",
    ")\n",
    "\n",
    "prompts = [\n",
    "    (\"intro\", intro),\n",
    "    (\"example\", example),\n",
    "    (\"start\", start),\n",
    "]\n",
    "\n",
    "full_prompt = PipelinePromptTemplate(\n",
    "    final_prompt=final,\n",
    "    pipeline_prompts=prompts,\n",
    ")\n",
    "\n",
    "full_prompt.format(\n",
    "    character=\"Assassin\",\n",
    "    example_question=\"What is your location\",\n",
    "    example_answer=\"Shhhh, That is secret\",\n",
    "    question=\"Who is your target?\",\n",
    ")"
   ]
  },
  {
   "cell_type": "code",
   "execution_count": 17,
   "metadata": {},
   "outputs": [
    {
     "name": "stdout",
     "output_type": "stream",
     "text": [
      "Shhhh, that information is classified."
     ]
    },
    {
     "data": {
      "text/plain": [
       "AIMessageChunk(content='Shhhh, that information is classified.')"
      ]
     },
     "execution_count": 17,
     "metadata": {},
     "output_type": "execute_result"
    }
   ],
   "source": [
    "chain = full_prompt | chat\n",
    "\n",
    "chain.invoke(\n",
    "    {\n",
    "        \"character\": \"Assassin\",\n",
    "        \"example_question\": \"What is your location\",\n",
    "        \"example_answer\": \"Shhhh, That is secret\",\n",
    "        \"question\": \"Who is your target?\",\n",
    "    }\n",
    ")"
   ]
  },
  {
   "cell_type": "markdown",
   "metadata": {},
   "source": [
    "# 4.5 Caching"
   ]
  },
  {
   "cell_type": "code",
   "execution_count": 39,
   "metadata": {},
   "outputs": [],
   "source": [
    "# set_llm_cache(InMemoryCache())\n",
    "# set_debug(True)"
   ]
  },
  {
   "cell_type": "code",
   "execution_count": 40,
   "metadata": {},
   "outputs": [],
   "source": [
    "import time"
   ]
  },
  {
   "cell_type": "code",
   "execution_count": 41,
   "metadata": {},
   "outputs": [],
   "source": [
    "chat = ChatOpenAI(\n",
    "    model=\"gpt-4o-mini\",\n",
    ")"
   ]
  },
  {
   "cell_type": "code",
   "execution_count": 42,
   "metadata": {},
   "outputs": [
    {
     "name": "stdout",
     "output_type": "stream",
     "text": [
      "\u001b[32;1m\u001b[1;3m[llm/start]\u001b[0m \u001b[1m[1:llm:ChatOpenAI] Entering LLM run with input:\n",
      "\u001b[0m{\n",
      "  \"prompts\": [\n",
      "    \"Human: How do you make italian pasta\"\n",
      "  ]\n",
      "}\n",
      "\u001b[36;1m\u001b[1;3m[llm/end]\u001b[0m \u001b[1m[1:llm:ChatOpenAI] [8.27s] Exiting LLM run with output:\n",
      "\u001b[0m{\n",
      "  \"generations\": [\n",
      "    [\n",
      "      {\n",
      "        \"text\": \"Making Italian pasta from scratch is a rewarding process! Here’s a simple recipe to guide you through making fresh pasta dough, which can be used for various pasta shapes:\\n\\n### Ingredients\\n\\n- 2 cups (250g) all-purpose flour or \\\"00\\\" flour (for a finer texture)\\n- 3 large eggs\\n- A pinch of salt\\n- Extra flour for dusting\\n\\n### Instructions\\n\\n1. **Make the Dough:**\\n   - On a clean surface or in a large mixing bowl, create a mound with the flour. Make a well in the center.\\n   - Crack the eggs into the well and add a pinch of salt.\\n   - Using a fork, beat the eggs gently and gradually incorporate the flour from the edges of the well until the mixture is too stiff to mix with a fork.\\n\\n2. **Knead the Dough:**\\n   - Gather the dough into a ball and begin kneading it with your hands. Knead for about 8-10 minutes until the dough is smooth and elastic. If the dough is too sticky, sprinkle a little more flour as needed.\\n   - Wrap the dough in plastic wrap or cover it with a cloth and let it rest for at least 30 minutes at room temperature. This helps relax the gluten.\\n\\n3. **Roll out the Dough:**\\n   - After resting, divide the dough into smaller pieces (about 4 portions). Keep the pieces you are not currently using covered to prevent them from drying out.\\n   - Flatten one piece slightly with your hand, then use a rolling pin or a pasta machine to roll it out to your desired thickness (usually around 1-2 mm for most pasta types).\\n\\n4. **Cut the Pasta:**\\n   - Once rolled out, you can cut the dough into your desired shape: \\n     - For **fettuccine**: Roll the sheet loosely and slice into strips.\\n     - For **lasagna**: Cut the sheets into rectangles.\\n     - For **tagliatelle**: Similar to fettuccine but usually wider.\\n     - For **ravioli**: Place filling on one sheet, cover with another, and cut into squares.\\n\\n5. **Cook the Pasta:**\\n   - Bring a large pot of salted water to a boil. Add the fresh pasta and cook for 2-4 minutes, depending on the thickness. Fresh pasta cooks much quicker than dried pasta.\\n   - Taste a piece to check for doneness, and then drain.\\n\\n6. **Serve:**\\n   - Toss the pasta with your favorite sauce, whether it’s a simple olive oil and garlic, marinara, or a creamy sauce. Add freshly grated cheese, herbs, or vegetables as desired.\\n\\n### Tips:\\n- You can also add ingredients to the dough for different flavors, like spinach or beet puree for colored pasta.\\n- Make sure to keep the dough and cut pasta pieces dusted with flour to prevent sticking.\\n\\nEnjoy your homemade Italian pasta! Buon appetito!\",\n",
      "        \"generation_info\": {\n",
      "          \"finish_reason\": \"stop\"\n",
      "        },\n",
      "        \"type\": \"ChatGeneration\",\n",
      "        \"message\": {\n",
      "          \"lc\": 1,\n",
      "          \"type\": \"constructor\",\n",
      "          \"id\": [\n",
      "            \"langchain\",\n",
      "            \"schema\",\n",
      "            \"messages\",\n",
      "            \"AIMessage\"\n",
      "          ],\n",
      "          \"kwargs\": {\n",
      "            \"content\": \"Making Italian pasta from scratch is a rewarding process! Here’s a simple recipe to guide you through making fresh pasta dough, which can be used for various pasta shapes:\\n\\n### Ingredients\\n\\n- 2 cups (250g) all-purpose flour or \\\"00\\\" flour (for a finer texture)\\n- 3 large eggs\\n- A pinch of salt\\n- Extra flour for dusting\\n\\n### Instructions\\n\\n1. **Make the Dough:**\\n   - On a clean surface or in a large mixing bowl, create a mound with the flour. Make a well in the center.\\n   - Crack the eggs into the well and add a pinch of salt.\\n   - Using a fork, beat the eggs gently and gradually incorporate the flour from the edges of the well until the mixture is too stiff to mix with a fork.\\n\\n2. **Knead the Dough:**\\n   - Gather the dough into a ball and begin kneading it with your hands. Knead for about 8-10 minutes until the dough is smooth and elastic. If the dough is too sticky, sprinkle a little more flour as needed.\\n   - Wrap the dough in plastic wrap or cover it with a cloth and let it rest for at least 30 minutes at room temperature. This helps relax the gluten.\\n\\n3. **Roll out the Dough:**\\n   - After resting, divide the dough into smaller pieces (about 4 portions). Keep the pieces you are not currently using covered to prevent them from drying out.\\n   - Flatten one piece slightly with your hand, then use a rolling pin or a pasta machine to roll it out to your desired thickness (usually around 1-2 mm for most pasta types).\\n\\n4. **Cut the Pasta:**\\n   - Once rolled out, you can cut the dough into your desired shape: \\n     - For **fettuccine**: Roll the sheet loosely and slice into strips.\\n     - For **lasagna**: Cut the sheets into rectangles.\\n     - For **tagliatelle**: Similar to fettuccine but usually wider.\\n     - For **ravioli**: Place filling on one sheet, cover with another, and cut into squares.\\n\\n5. **Cook the Pasta:**\\n   - Bring a large pot of salted water to a boil. Add the fresh pasta and cook for 2-4 minutes, depending on the thickness. Fresh pasta cooks much quicker than dried pasta.\\n   - Taste a piece to check for doneness, and then drain.\\n\\n6. **Serve:**\\n   - Toss the pasta with your favorite sauce, whether it’s a simple olive oil and garlic, marinara, or a creamy sauce. Add freshly grated cheese, herbs, or vegetables as desired.\\n\\n### Tips:\\n- You can also add ingredients to the dough for different flavors, like spinach or beet puree for colored pasta.\\n- Make sure to keep the dough and cut pasta pieces dusted with flour to prevent sticking.\\n\\nEnjoy your homemade Italian pasta! Buon appetito!\",\n",
      "            \"additional_kwargs\": {}\n",
      "          }\n",
      "        }\n",
      "      }\n",
      "    ]\n",
      "  ],\n",
      "  \"llm_output\": {\n",
      "    \"token_usage\": {\n",
      "      \"prompt_tokens\": 14,\n",
      "      \"completion_tokens\": 605,\n",
      "      \"total_tokens\": 619,\n",
      "      \"prompt_tokens_details\": {\n",
      "        \"cached_tokens\": 0,\n",
      "        \"audio_tokens\": 0\n",
      "      },\n",
      "      \"completion_tokens_details\": {\n",
      "        \"reasoning_tokens\": 0,\n",
      "        \"audio_tokens\": 0,\n",
      "        \"accepted_prediction_tokens\": 0,\n",
      "        \"rejected_prediction_tokens\": 0\n",
      "      }\n",
      "    },\n",
      "    \"model_name\": \"gpt-4o-mini\",\n",
      "    \"system_fingerprint\": \"fp_b376dfbbd5\"\n",
      "  },\n",
      "  \"run\": null\n",
      "}\n"
     ]
    },
    {
     "data": {
      "text/plain": [
       "'Making Italian pasta from scratch is a rewarding process! Here’s a simple recipe to guide you through making fresh pasta dough, which can be used for various pasta shapes:\\n\\n### Ingredients\\n\\n- 2 cups (250g) all-purpose flour or \"00\" flour (for a finer texture)\\n- 3 large eggs\\n- A pinch of salt\\n- Extra flour for dusting\\n\\n### Instructions\\n\\n1. **Make the Dough:**\\n   - On a clean surface or in a large mixing bowl, create a mound with the flour. Make a well in the center.\\n   - Crack the eggs into the well and add a pinch of salt.\\n   - Using a fork, beat the eggs gently and gradually incorporate the flour from the edges of the well until the mixture is too stiff to mix with a fork.\\n\\n2. **Knead the Dough:**\\n   - Gather the dough into a ball and begin kneading it with your hands. Knead for about 8-10 minutes until the dough is smooth and elastic. If the dough is too sticky, sprinkle a little more flour as needed.\\n   - Wrap the dough in plastic wrap or cover it with a cloth and let it rest for at least 30 minutes at room temperature. This helps relax the gluten.\\n\\n3. **Roll out the Dough:**\\n   - After resting, divide the dough into smaller pieces (about 4 portions). Keep the pieces you are not currently using covered to prevent them from drying out.\\n   - Flatten one piece slightly with your hand, then use a rolling pin or a pasta machine to roll it out to your desired thickness (usually around 1-2 mm for most pasta types).\\n\\n4. **Cut the Pasta:**\\n   - Once rolled out, you can cut the dough into your desired shape: \\n     - For **fettuccine**: Roll the sheet loosely and slice into strips.\\n     - For **lasagna**: Cut the sheets into rectangles.\\n     - For **tagliatelle**: Similar to fettuccine but usually wider.\\n     - For **ravioli**: Place filling on one sheet, cover with another, and cut into squares.\\n\\n5. **Cook the Pasta:**\\n   - Bring a large pot of salted water to a boil. Add the fresh pasta and cook for 2-4 minutes, depending on the thickness. Fresh pasta cooks much quicker than dried pasta.\\n   - Taste a piece to check for doneness, and then drain.\\n\\n6. **Serve:**\\n   - Toss the pasta with your favorite sauce, whether it’s a simple olive oil and garlic, marinara, or a creamy sauce. Add freshly grated cheese, herbs, or vegetables as desired.\\n\\n### Tips:\\n- You can also add ingredients to the dough for different flavors, like spinach or beet puree for colored pasta.\\n- Make sure to keep the dough and cut pasta pieces dusted with flour to prevent sticking.\\n\\nEnjoy your homemade Italian pasta! Buon appetito!'"
      ]
     },
     "execution_count": 42,
     "metadata": {},
     "output_type": "execute_result"
    }
   ],
   "source": [
    "chat.predict(\"How do you make italian pasta \")"
   ]
  },
  {
   "cell_type": "code",
   "execution_count": 43,
   "metadata": {},
   "outputs": [
    {
     "name": "stdout",
     "output_type": "stream",
     "text": [
      "\u001b[32;1m\u001b[1;3m[llm/start]\u001b[0m \u001b[1m[1:llm:ChatOpenAI] Entering LLM run with input:\n",
      "\u001b[0m{\n",
      "  \"prompts\": [\n",
      "    \"Human: How do you make italian pasta\"\n",
      "  ]\n",
      "}\n",
      "\u001b[36;1m\u001b[1;3m[llm/end]\u001b[0m \u001b[1m[1:llm:ChatOpenAI] [1ms] Exiting LLM run with output:\n",
      "\u001b[0m{\n",
      "  \"generations\": [\n",
      "    [\n",
      "      {\n",
      "        \"text\": \"Making Italian pasta from scratch is a rewarding process! Here’s a simple recipe to guide you through making fresh pasta dough, which can be used for various pasta shapes:\\n\\n### Ingredients\\n\\n- 2 cups (250g) all-purpose flour or \\\"00\\\" flour (for a finer texture)\\n- 3 large eggs\\n- A pinch of salt\\n- Extra flour for dusting\\n\\n### Instructions\\n\\n1. **Make the Dough:**\\n   - On a clean surface or in a large mixing bowl, create a mound with the flour. Make a well in the center.\\n   - Crack the eggs into the well and add a pinch of salt.\\n   - Using a fork, beat the eggs gently and gradually incorporate the flour from the edges of the well until the mixture is too stiff to mix with a fork.\\n\\n2. **Knead the Dough:**\\n   - Gather the dough into a ball and begin kneading it with your hands. Knead for about 8-10 minutes until the dough is smooth and elastic. If the dough is too sticky, sprinkle a little more flour as needed.\\n   - Wrap the dough in plastic wrap or cover it with a cloth and let it rest for at least 30 minutes at room temperature. This helps relax the gluten.\\n\\n3. **Roll out the Dough:**\\n   - After resting, divide the dough into smaller pieces (about 4 portions). Keep the pieces you are not currently using covered to prevent them from drying out.\\n   - Flatten one piece slightly with your hand, then use a rolling pin or a pasta machine to roll it out to your desired thickness (usually around 1-2 mm for most pasta types).\\n\\n4. **Cut the Pasta:**\\n   - Once rolled out, you can cut the dough into your desired shape: \\n     - For **fettuccine**: Roll the sheet loosely and slice into strips.\\n     - For **lasagna**: Cut the sheets into rectangles.\\n     - For **tagliatelle**: Similar to fettuccine but usually wider.\\n     - For **ravioli**: Place filling on one sheet, cover with another, and cut into squares.\\n\\n5. **Cook the Pasta:**\\n   - Bring a large pot of salted water to a boil. Add the fresh pasta and cook for 2-4 minutes, depending on the thickness. Fresh pasta cooks much quicker than dried pasta.\\n   - Taste a piece to check for doneness, and then drain.\\n\\n6. **Serve:**\\n   - Toss the pasta with your favorite sauce, whether it’s a simple olive oil and garlic, marinara, or a creamy sauce. Add freshly grated cheese, herbs, or vegetables as desired.\\n\\n### Tips:\\n- You can also add ingredients to the dough for different flavors, like spinach or beet puree for colored pasta.\\n- Make sure to keep the dough and cut pasta pieces dusted with flour to prevent sticking.\\n\\nEnjoy your homemade Italian pasta! Buon appetito!\",\n",
      "        \"generation_info\": {\n",
      "          \"finish_reason\": \"stop\"\n",
      "        },\n",
      "        \"type\": \"ChatGeneration\",\n",
      "        \"message\": {\n",
      "          \"lc\": 1,\n",
      "          \"type\": \"constructor\",\n",
      "          \"id\": [\n",
      "            \"langchain\",\n",
      "            \"schema\",\n",
      "            \"messages\",\n",
      "            \"AIMessage\"\n",
      "          ],\n",
      "          \"kwargs\": {\n",
      "            \"content\": \"Making Italian pasta from scratch is a rewarding process! Here’s a simple recipe to guide you through making fresh pasta dough, which can be used for various pasta shapes:\\n\\n### Ingredients\\n\\n- 2 cups (250g) all-purpose flour or \\\"00\\\" flour (for a finer texture)\\n- 3 large eggs\\n- A pinch of salt\\n- Extra flour for dusting\\n\\n### Instructions\\n\\n1. **Make the Dough:**\\n   - On a clean surface or in a large mixing bowl, create a mound with the flour. Make a well in the center.\\n   - Crack the eggs into the well and add a pinch of salt.\\n   - Using a fork, beat the eggs gently and gradually incorporate the flour from the edges of the well until the mixture is too stiff to mix with a fork.\\n\\n2. **Knead the Dough:**\\n   - Gather the dough into a ball and begin kneading it with your hands. Knead for about 8-10 minutes until the dough is smooth and elastic. If the dough is too sticky, sprinkle a little more flour as needed.\\n   - Wrap the dough in plastic wrap or cover it with a cloth and let it rest for at least 30 minutes at room temperature. This helps relax the gluten.\\n\\n3. **Roll out the Dough:**\\n   - After resting, divide the dough into smaller pieces (about 4 portions). Keep the pieces you are not currently using covered to prevent them from drying out.\\n   - Flatten one piece slightly with your hand, then use a rolling pin or a pasta machine to roll it out to your desired thickness (usually around 1-2 mm for most pasta types).\\n\\n4. **Cut the Pasta:**\\n   - Once rolled out, you can cut the dough into your desired shape: \\n     - For **fettuccine**: Roll the sheet loosely and slice into strips.\\n     - For **lasagna**: Cut the sheets into rectangles.\\n     - For **tagliatelle**: Similar to fettuccine but usually wider.\\n     - For **ravioli**: Place filling on one sheet, cover with another, and cut into squares.\\n\\n5. **Cook the Pasta:**\\n   - Bring a large pot of salted water to a boil. Add the fresh pasta and cook for 2-4 minutes, depending on the thickness. Fresh pasta cooks much quicker than dried pasta.\\n   - Taste a piece to check for doneness, and then drain.\\n\\n6. **Serve:**\\n   - Toss the pasta with your favorite sauce, whether it’s a simple olive oil and garlic, marinara, or a creamy sauce. Add freshly grated cheese, herbs, or vegetables as desired.\\n\\n### Tips:\\n- You can also add ingredients to the dough for different flavors, like spinach or beet puree for colored pasta.\\n- Make sure to keep the dough and cut pasta pieces dusted with flour to prevent sticking.\\n\\nEnjoy your homemade Italian pasta! Buon appetito!\",\n",
      "            \"additional_kwargs\": {}\n",
      "          }\n",
      "        }\n",
      "      }\n",
      "    ]\n",
      "  ],\n",
      "  \"llm_output\": null,\n",
      "  \"run\": null\n",
      "}\n"
     ]
    },
    {
     "data": {
      "text/plain": [
       "'Making Italian pasta from scratch is a rewarding process! Here’s a simple recipe to guide you through making fresh pasta dough, which can be used for various pasta shapes:\\n\\n### Ingredients\\n\\n- 2 cups (250g) all-purpose flour or \"00\" flour (for a finer texture)\\n- 3 large eggs\\n- A pinch of salt\\n- Extra flour for dusting\\n\\n### Instructions\\n\\n1. **Make the Dough:**\\n   - On a clean surface or in a large mixing bowl, create a mound with the flour. Make a well in the center.\\n   - Crack the eggs into the well and add a pinch of salt.\\n   - Using a fork, beat the eggs gently and gradually incorporate the flour from the edges of the well until the mixture is too stiff to mix with a fork.\\n\\n2. **Knead the Dough:**\\n   - Gather the dough into a ball and begin kneading it with your hands. Knead for about 8-10 minutes until the dough is smooth and elastic. If the dough is too sticky, sprinkle a little more flour as needed.\\n   - Wrap the dough in plastic wrap or cover it with a cloth and let it rest for at least 30 minutes at room temperature. This helps relax the gluten.\\n\\n3. **Roll out the Dough:**\\n   - After resting, divide the dough into smaller pieces (about 4 portions). Keep the pieces you are not currently using covered to prevent them from drying out.\\n   - Flatten one piece slightly with your hand, then use a rolling pin or a pasta machine to roll it out to your desired thickness (usually around 1-2 mm for most pasta types).\\n\\n4. **Cut the Pasta:**\\n   - Once rolled out, you can cut the dough into your desired shape: \\n     - For **fettuccine**: Roll the sheet loosely and slice into strips.\\n     - For **lasagna**: Cut the sheets into rectangles.\\n     - For **tagliatelle**: Similar to fettuccine but usually wider.\\n     - For **ravioli**: Place filling on one sheet, cover with another, and cut into squares.\\n\\n5. **Cook the Pasta:**\\n   - Bring a large pot of salted water to a boil. Add the fresh pasta and cook for 2-4 minutes, depending on the thickness. Fresh pasta cooks much quicker than dried pasta.\\n   - Taste a piece to check for doneness, and then drain.\\n\\n6. **Serve:**\\n   - Toss the pasta with your favorite sauce, whether it’s a simple olive oil and garlic, marinara, or a creamy sauce. Add freshly grated cheese, herbs, or vegetables as desired.\\n\\n### Tips:\\n- You can also add ingredients to the dough for different flavors, like spinach or beet puree for colored pasta.\\n- Make sure to keep the dough and cut pasta pieces dusted with flour to prevent sticking.\\n\\nEnjoy your homemade Italian pasta! Buon appetito!'"
      ]
     },
     "execution_count": 43,
     "metadata": {},
     "output_type": "execute_result"
    }
   ],
   "source": [
    "chat.predict(\"How do you make italian pasta \")"
   ]
  },
  {
   "cell_type": "code",
   "execution_count": 45,
   "metadata": {},
   "outputs": [
    {
     "name": "stdout",
     "output_type": "stream",
     "text": [
      "\u001b[32;1m\u001b[1;3m[llm/start]\u001b[0m \u001b[1m[1:llm:ChatOpenAI] Entering LLM run with input:\n",
      "\u001b[0m{\n",
      "  \"prompts\": [\n",
      "    \"Human: How do you make italian pasta\"\n",
      "  ]\n",
      "}\n",
      "\u001b[36;1m\u001b[1;3m[llm/end]\u001b[0m \u001b[1m[1:llm:ChatOpenAI] [11.50s] Exiting LLM run with output:\n",
      "\u001b[0m{\n",
      "  \"generations\": [\n",
      "    [\n",
      "      {\n",
      "        \"text\": \"Making Italian pasta from scratch is a rewarding process that involves just a few simple ingredients. Here's a basic recipe for fresh pasta:\\n\\n### Ingredients:\\n- 2 cups (250g) all-purpose flour (or \\\"00\\\" flour for a more authentic texture)\\n- 3 large eggs\\n- A pinch of salt\\n- A little water (if needed)\\n\\n### Instructions:\\n\\n#### Step 1: Prepare the Dough\\n1. **Make a Flour Well**: On a clean surface or in a large bowl, mound the flour and make a well in the center. Sprinkle a pinch of salt over the flour.\\n  \\n2. **Add Eggs**: Crack the eggs into the well. Use a fork to beat the eggs gently, then gradually incorporate the flour from the edges of the well.\\n\\n3. **Form the Dough**: As the mixture comes together, use your hands to knead it into a dough. If the dough is too dry, add a little water, a teaspoon at a time. If it's too sticky, sprinkle with a bit more flour.\\n\\n#### Step 2: Knead the Dough\\n4. **Knead**: Knead the dough for about 8-10 minutes until it is smooth and elastic. Form it into a ball.\\n\\n5. **Rest**: Wrap the dough in plastic wrap or cover it with a clean cloth. Let it rest at room temperature for at least 30 minutes. This allows the gluten to relax, making it easier to roll out.\\n\\n#### Step 3: Roll Out the Dough\\n6. **Divide the Dough**: Cut the dough into four pieces. Keep the pieces you’re not using covered to prevent them from drying out.\\n\\n7. **Roll**: Using a rolling pin or a pasta machine, roll out one piece of dough at a time into thin sheets (about 1/16 inch thick). Dust with flour as needed to prevent sticking.\\n\\n#### Step 4: Cut the Pasta\\n8. **Shape the Pasta**: Once rolled out, you can cut the pasta into your desired shape:\\n   - For tagliatelle: Roll the sheet up and slice it into strips.\\n   - For lasagna: Cut into rectangles.\\n   - For fettuccine: Cut into wider strips.\\n\\n#### Step 5: Cook the Pasta\\n9. **Boil**: Bring a large pot of salted water to a boil. Add the pasta and cook for 2-4 minutes (fresh pasta cooks quickly). Taste to check for doneness.\\n\\n10. **Drain**: Reserve a cup of pasta water if you plan to make a sauce, then drain the pasta.\\n\\n#### Step 6: Serve\\n11. **Sauce**: Toss the cooked pasta with your favorite sauce, whether it’s a simple olive oil and garlic, marinara, or a creamy sauce. You can add vegetables, proteins, or cheese as desired.\\n\\n12. **Enjoy**: Serve your pasta hot, garnished with fresh herbs or grated cheese.\\n\\n### Tips:\\n- You can also add ingredients like spinach or beet juice to the dough for colorful variations.\\n- Experiment with different types of flour for unique textures and flavors.\\n- Fresh pasta can be stored in the refrigerator for a couple of days or frozen for later use.\\n\\nEnjoy your homemade Italian pasta!\",\n",
      "        \"generation_info\": {\n",
      "          \"finish_reason\": \"stop\"\n",
      "        },\n",
      "        \"type\": \"ChatGeneration\",\n",
      "        \"message\": {\n",
      "          \"lc\": 1,\n",
      "          \"type\": \"constructor\",\n",
      "          \"id\": [\n",
      "            \"langchain\",\n",
      "            \"schema\",\n",
      "            \"messages\",\n",
      "            \"AIMessage\"\n",
      "          ],\n",
      "          \"kwargs\": {\n",
      "            \"content\": \"Making Italian pasta from scratch is a rewarding process that involves just a few simple ingredients. Here's a basic recipe for fresh pasta:\\n\\n### Ingredients:\\n- 2 cups (250g) all-purpose flour (or \\\"00\\\" flour for a more authentic texture)\\n- 3 large eggs\\n- A pinch of salt\\n- A little water (if needed)\\n\\n### Instructions:\\n\\n#### Step 1: Prepare the Dough\\n1. **Make a Flour Well**: On a clean surface or in a large bowl, mound the flour and make a well in the center. Sprinkle a pinch of salt over the flour.\\n  \\n2. **Add Eggs**: Crack the eggs into the well. Use a fork to beat the eggs gently, then gradually incorporate the flour from the edges of the well.\\n\\n3. **Form the Dough**: As the mixture comes together, use your hands to knead it into a dough. If the dough is too dry, add a little water, a teaspoon at a time. If it's too sticky, sprinkle with a bit more flour.\\n\\n#### Step 2: Knead the Dough\\n4. **Knead**: Knead the dough for about 8-10 minutes until it is smooth and elastic. Form it into a ball.\\n\\n5. **Rest**: Wrap the dough in plastic wrap or cover it with a clean cloth. Let it rest at room temperature for at least 30 minutes. This allows the gluten to relax, making it easier to roll out.\\n\\n#### Step 3: Roll Out the Dough\\n6. **Divide the Dough**: Cut the dough into four pieces. Keep the pieces you’re not using covered to prevent them from drying out.\\n\\n7. **Roll**: Using a rolling pin or a pasta machine, roll out one piece of dough at a time into thin sheets (about 1/16 inch thick). Dust with flour as needed to prevent sticking.\\n\\n#### Step 4: Cut the Pasta\\n8. **Shape the Pasta**: Once rolled out, you can cut the pasta into your desired shape:\\n   - For tagliatelle: Roll the sheet up and slice it into strips.\\n   - For lasagna: Cut into rectangles.\\n   - For fettuccine: Cut into wider strips.\\n\\n#### Step 5: Cook the Pasta\\n9. **Boil**: Bring a large pot of salted water to a boil. Add the pasta and cook for 2-4 minutes (fresh pasta cooks quickly). Taste to check for doneness.\\n\\n10. **Drain**: Reserve a cup of pasta water if you plan to make a sauce, then drain the pasta.\\n\\n#### Step 6: Serve\\n11. **Sauce**: Toss the cooked pasta with your favorite sauce, whether it’s a simple olive oil and garlic, marinara, or a creamy sauce. You can add vegetables, proteins, or cheese as desired.\\n\\n12. **Enjoy**: Serve your pasta hot, garnished with fresh herbs or grated cheese.\\n\\n### Tips:\\n- You can also add ingredients like spinach or beet juice to the dough for colorful variations.\\n- Experiment with different types of flour for unique textures and flavors.\\n- Fresh pasta can be stored in the refrigerator for a couple of days or frozen for later use.\\n\\nEnjoy your homemade Italian pasta!\",\n",
      "            \"additional_kwargs\": {}\n",
      "          }\n",
      "        }\n",
      "      }\n",
      "    ]\n",
      "  ],\n",
      "  \"llm_output\": {\n",
      "    \"token_usage\": {\n",
      "      \"prompt_tokens\": 14,\n",
      "      \"completion_tokens\": 669,\n",
      "      \"total_tokens\": 683,\n",
      "      \"prompt_tokens_details\": {\n",
      "        \"cached_tokens\": 0,\n",
      "        \"audio_tokens\": 0\n",
      "      },\n",
      "      \"completion_tokens_details\": {\n",
      "        \"reasoning_tokens\": 0,\n",
      "        \"audio_tokens\": 0,\n",
      "        \"accepted_prediction_tokens\": 0,\n",
      "        \"rejected_prediction_tokens\": 0\n",
      "      }\n",
      "    },\n",
      "    \"model_name\": \"gpt-4o-mini\",\n",
      "    \"system_fingerprint\": \"fp_b376dfbbd5\"\n",
      "  },\n",
      "  \"run\": null\n",
      "}\n"
     ]
    },
    {
     "data": {
      "text/plain": [
       "'Making Italian pasta from scratch is a rewarding process that involves just a few simple ingredients. Here\\'s a basic recipe for fresh pasta:\\n\\n### Ingredients:\\n- 2 cups (250g) all-purpose flour (or \"00\" flour for a more authentic texture)\\n- 3 large eggs\\n- A pinch of salt\\n- A little water (if needed)\\n\\n### Instructions:\\n\\n#### Step 1: Prepare the Dough\\n1. **Make a Flour Well**: On a clean surface or in a large bowl, mound the flour and make a well in the center. Sprinkle a pinch of salt over the flour.\\n  \\n2. **Add Eggs**: Crack the eggs into the well. Use a fork to beat the eggs gently, then gradually incorporate the flour from the edges of the well.\\n\\n3. **Form the Dough**: As the mixture comes together, use your hands to knead it into a dough. If the dough is too dry, add a little water, a teaspoon at a time. If it\\'s too sticky, sprinkle with a bit more flour.\\n\\n#### Step 2: Knead the Dough\\n4. **Knead**: Knead the dough for about 8-10 minutes until it is smooth and elastic. Form it into a ball.\\n\\n5. **Rest**: Wrap the dough in plastic wrap or cover it with a clean cloth. Let it rest at room temperature for at least 30 minutes. This allows the gluten to relax, making it easier to roll out.\\n\\n#### Step 3: Roll Out the Dough\\n6. **Divide the Dough**: Cut the dough into four pieces. Keep the pieces you’re not using covered to prevent them from drying out.\\n\\n7. **Roll**: Using a rolling pin or a pasta machine, roll out one piece of dough at a time into thin sheets (about 1/16 inch thick). Dust with flour as needed to prevent sticking.\\n\\n#### Step 4: Cut the Pasta\\n8. **Shape the Pasta**: Once rolled out, you can cut the pasta into your desired shape:\\n   - For tagliatelle: Roll the sheet up and slice it into strips.\\n   - For lasagna: Cut into rectangles.\\n   - For fettuccine: Cut into wider strips.\\n\\n#### Step 5: Cook the Pasta\\n9. **Boil**: Bring a large pot of salted water to a boil. Add the pasta and cook for 2-4 minutes (fresh pasta cooks quickly). Taste to check for doneness.\\n\\n10. **Drain**: Reserve a cup of pasta water if you plan to make a sauce, then drain the pasta.\\n\\n#### Step 6: Serve\\n11. **Sauce**: Toss the cooked pasta with your favorite sauce, whether it’s a simple olive oil and garlic, marinara, or a creamy sauce. You can add vegetables, proteins, or cheese as desired.\\n\\n12. **Enjoy**: Serve your pasta hot, garnished with fresh herbs or grated cheese.\\n\\n### Tips:\\n- You can also add ingredients like spinach or beet juice to the dough for colorful variations.\\n- Experiment with different types of flour for unique textures and flavors.\\n- Fresh pasta can be stored in the refrigerator for a couple of days or frozen for later use.\\n\\nEnjoy your homemade Italian pasta!'"
      ]
     },
     "execution_count": 45,
     "metadata": {},
     "output_type": "execute_result"
    }
   ],
   "source": [
    "# Caching in DB\n",
    "\n",
    "set_llm_cache(SQLiteCache(\"cache.db\"))\n",
    "\n",
    "chat.predict(\"How do you make italian pasta \")"
   ]
  },
  {
   "cell_type": "code",
   "execution_count": null,
   "metadata": {},
   "outputs": [],
   "source": [
    "chat.predict(\"How do you make italian pasta \")"
   ]
  },
  {
   "cell_type": "code",
   "execution_count": 48,
   "metadata": {},
   "outputs": [],
   "source": [
    "set_debug(False)"
   ]
  },
  {
   "cell_type": "markdown",
   "metadata": {},
   "source": [
    "# Cost Usage"
   ]
  },
  {
   "cell_type": "code",
   "execution_count": 50,
   "metadata": {},
   "outputs": [
    {
     "name": "stdout",
     "output_type": "stream",
     "text": [
      "Here are three delicious recipes using chicken breast:\n",
      "\n",
      "### 1. **Grilled Lemon Herb Chicken Breast**\n",
      "\n",
      "#### Ingredients:\n",
      "- 2 chicken breasts\n",
      "- 2 tablespoons olive oil\n",
      "- Juice of 1 lemon\n",
      "- 2 teaspoons dried oregano\n",
      "- 2 teaspoons garlic powder\n",
      "- Salt and pepper to taste\n",
      "\n",
      "#### Instructions:\n",
      "1. **Marinate the Chicken**: In a bowl, mix olive oil, lemon juice, oregano, garlic powder, salt, and pepper. Add the chicken breasts and coat well. Let it marinate for at least 30 minutes (or up to 4 hours in the fridge).\n",
      "  \n",
      "2. **Preheat the Grill**: Preheat your grill to medium-high heat.\n",
      "\n",
      "3. **Grill the Chicken**: Remove chicken from the marinade and grill for about 6-7 minutes on each side, or until the internal temperature reaches 165°F (75°C).\n",
      "\n",
      "4. **Serve**: Let the chicken rest for a few minutes before slicing. Serve with a side of grilled vegetables or a fresh salad.\n",
      "\n",
      "---\n",
      "\n",
      "### 2. **Creamy Garlic Chicken Breast**\n",
      "\n",
      "#### Ingredients:\n",
      "- 2 chicken breasts\n",
      "- 2 tablespoons olive oil\n",
      "- 4 cloves garlic, minced\n",
      "- 1 cup heavy cream\n",
      "- 1 cup chicken broth\n",
      "- 1 teaspoon Italian seasoning\n",
      "- Salt and pepper to taste\n",
      "- Fresh parsley for garnish\n",
      "\n",
      "#### Instructions:\n",
      "1. **Cook the Chicken**: Heat olive oil in a skillet over medium heat. Season chicken breasts with salt and pepper. Cook for about 6-7 minutes on each side until golden brown and cooked through. Remove from skillet and set aside.\n",
      "\n",
      "2. **Make the Sauce**: In the same skillet, add minced garlic and sauté for about 1 minute until fragrant. Pour in chicken broth and heavy cream, and stir in Italian seasoning. Let it simmer for about 5 minutes until slightly thickened.\n",
      "\n",
      "3. **Combine**: Return the chicken to the skillet, coating it with the creamy sauce. Let it cook for another 2-3 minutes.\n",
      "\n",
      "4. **Serve**: Garnish with fresh parsley and serve over pasta, rice, or with steamed vegetables.\n",
      "\n",
      "---\n",
      "\n",
      "### 3. **Honey Mustard Chicken Breast**\n",
      "\n",
      "#### Ingredients:\n",
      "- 2 chicken breasts\n",
      "- 2 tablespoons olive oil\n",
      "- 2 tablespoons honey\n",
      "- 2 tablespoons Dijon mustard\n",
      "- 1 tablespoon apple cider vinegar\n",
      "- Salt and pepper to taste\n",
      "\n",
      "#### Instructions:\n",
      "1. **Preheat Oven**: Preheat your oven to 400°F (200°C).\n",
      "\n",
      "2. **Prepare the Marinade**: In a small bowl, whisk together olive oil, honey, Dijon mustard, apple cider vinegar, salt, and pepper.\n",
      "\n",
      "3. **Coat the Chicken**: Place chicken breasts in a baking dish and pour the honey mustard mixture over them, ensuring they are well coated.\n",
      "\n",
      "4. **Bake**: Bake in the preheated oven for 25-30 minutes, or until the chicken is cooked through and the internal temperature reaches 165°F (75°C).\n",
      "\n",
      "5. **Serve**: Let it rest for a few minutes before slicing. This dish pairs well with roasted vegetables or a quinoa salad.\n",
      "\n",
      "Enjoy your chicken breast meals!\n",
      "Tokens Used: 678\n",
      "\tPrompt Tokens: 16\n",
      "\tCompletion Tokens: 662\n",
      "Successful Requests: 1\n",
      "Total Cost (USD): $0.0\n"
     ]
    }
   ],
   "source": [
    "with get_openai_callback() as usage:\n",
    "    result = chat.predict(\"What is the recipe for meals using chicken breast\")\n",
    "    print(result)\n",
    "    print(usage)"
   ]
  },
  {
   "cell_type": "code",
   "execution_count": 58,
   "metadata": {},
   "outputs": [],
   "source": [
    "chat = OpenAI(\n",
    "    model=\"gpt-4o\",\n",
    "    max_tokens=450,\n",
    "    temperature=0.1,\n",
    ")\n",
    "\n",
    "chat.save(\"model.json\")"
   ]
  },
  {
   "cell_type": "code",
   "execution_count": 60,
   "metadata": {},
   "outputs": [
    {
     "name": "stderr",
     "output_type": "stream",
     "text": [
      "/Users/seongbae/miniconda3/envs/fullstack-gpt/lib/python3.11/site-packages/langchain/llms/openai.py:216: UserWarning: You are trying to use a chat model. This way of initializing it is no longer supported. Instead, please use: `from langchain.chat_models import ChatOpenAI`\n",
      "  warnings.warn(\n",
      "/Users/seongbae/miniconda3/envs/fullstack-gpt/lib/python3.11/site-packages/langchain/llms/openai.py:811: UserWarning: You are trying to use a chat model. This way of initializing it is no longer supported. Instead, please use: `from langchain.chat_models import ChatOpenAI`\n",
      "  warnings.warn(\n"
     ]
    },
    {
     "data": {
      "text/plain": [
       "OpenAIChat(client=<class 'openai.api_resources.chat_completion.ChatCompletion'>, model_name='gpt-4o', model_kwargs={'temperature': 0.1, 'max_tokens': 450, 'top_p': 1, 'frequency_penalty': 0, 'presence_penalty': 0, 'n': 1, 'request_timeout': None, 'logit_bias': {}})"
      ]
     },
     "execution_count": 60,
     "metadata": {},
     "output_type": "execute_result"
    }
   ],
   "source": [
    "loaded_chat = load_llm(\"model.json\")\n",
    "loaded_chat"
   ]
  },
  {
   "cell_type": "code",
   "execution_count": null,
   "metadata": {},
   "outputs": [],
   "source": []
  }
 ],
 "metadata": {
  "kernelspec": {
   "display_name": "fullstack-gpt",
   "language": "python",
   "name": "python3"
  },
  "language_info": {
   "codemirror_mode": {
    "name": "ipython",
    "version": 3
   },
   "file_extension": ".py",
   "mimetype": "text/x-python",
   "name": "python",
   "nbconvert_exporter": "python",
   "pygments_lexer": "ipython3",
   "version": "3.11.11"
  }
 },
 "nbformat": 4,
 "nbformat_minor": 2
}
