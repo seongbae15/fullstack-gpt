{
 "cells": [
  {
   "cell_type": "code",
   "execution_count": 33,
   "metadata": {},
   "outputs": [],
   "source": [
    "from langchain.chat_models import ChatOpenAI\n",
    "from langchain.prompts import PromptTemplate, ChatPromptTemplate\n",
    "from langchain.prompts.few_shot import (\n",
    "    FewShotPromptTemplate,\n",
    "    FewShotChatMessagePromptTemplate,\n",
    ")\n",
    "from langchain.callbacks import StreamingStdOutCallbackHandler\n",
    "from langchain.prompts.example_selector import LengthBasedExampleSelector\n",
    "from langchain.prompts.example_selector.base import BaseExampleSelector\n",
    "from langchain.prompts import load_prompt\n",
    "from langchain.prompts.pipeline import PipelinePromptTemplate"
   ]
  },
  {
   "cell_type": "markdown",
   "metadata": {},
   "source": [
    "# 4.1 FewShotPromptTemplate"
   ]
  },
  {
   "cell_type": "code",
   "execution_count": 2,
   "metadata": {},
   "outputs": [],
   "source": [
    "chat = ChatOpenAI(\n",
    "    model=\"gpt-4o-mini\",\n",
    "    temperature=0.1,\n",
    "    streaming=True,\n",
    "    callbacks=[\n",
    "        StreamingStdOutCallbackHandler(),\n",
    "    ],\n",
    ")"
   ]
  },
  {
   "cell_type": "code",
   "execution_count": 3,
   "metadata": {},
   "outputs": [
    {
     "data": {
      "text/plain": [
       "PromptTemplate(input_variables=['country'], template='What is the capital of {country}?')"
      ]
     },
     "execution_count": 3,
     "metadata": {},
     "output_type": "execute_result"
    }
   ],
   "source": [
    "t = PromptTemplate.from_template(\"What is the capital of {country}?\")\n",
    "t"
   ]
  },
  {
   "cell_type": "code",
   "execution_count": 4,
   "metadata": {},
   "outputs": [
    {
     "data": {
      "text/plain": [
       "'What is the capital of Spain?'"
      ]
     },
     "execution_count": 4,
     "metadata": {},
     "output_type": "execute_result"
    }
   ],
   "source": [
    "t.format(country=\"Spain\")"
   ]
  },
  {
   "cell_type": "code",
   "execution_count": 5,
   "metadata": {},
   "outputs": [],
   "source": [
    "examples = [\n",
    "    {\n",
    "        \"question\": \"What do you know about France?\",\n",
    "        \"answer\": \"\"\"\n",
    "            Here is what I know:\n",
    "            Capital: Paris\n",
    "            Language: French\n",
    "            Food: Wine and Cheese\n",
    "            Currency: Euro\n",
    "            \"\"\",\n",
    "    },\n",
    "    {\n",
    "        \"question\": \"What do you know about Italy?\",\n",
    "        \"answer\": \"\"\"\n",
    "            I know this:\n",
    "            Capital: Rome\n",
    "            Language: Italian\n",
    "            Food: Pizza and Pasta\n",
    "            Currency: Euro\n",
    "            \"\"\",\n",
    "    },\n",
    "    {\n",
    "        \"question\": \"What do you know about Greece?\",\n",
    "        \"answer\": \"\"\"\n",
    "            I know this:\n",
    "            Capital: Athens\n",
    "            Language: Greek\n",
    "            Food: Souvlaki and Feta Cheese\n",
    "            Currency: Euro\n",
    "            \"\"\",\n",
    "    },\n",
    "]"
   ]
  },
  {
   "cell_type": "code",
   "execution_count": 6,
   "metadata": {},
   "outputs": [
    {
     "name": "stdout",
     "output_type": "stream",
     "text": [
      "Greece is a country located in southeastern Europe, known for its rich history, cultural heritage, and stunning landscapes. Here are some key points about Greece:\n",
      "\n",
      "1. **Geography**: Greece is situated on the southern tip of the Balkan Peninsula and is bordered by Albania, North Macedonia, Bulgaria, and Turkey. It has a vast coastline along the Aegean, Ionian, and Mediterranean Seas, and is made up of numerous islands, with Crete being the largest.\n",
      "\n",
      "2. **History**: Greece is often referred to as the cradle of Western civilization. It is the birthplace of democracy, philosophy, and the Olympic Games. Ancient Greece was home to great philosophers such as Socrates, Plato, and Aristotle, as well as significant historical figures like Alexander the Great.\n",
      "\n",
      "3. **Culture**: Greek culture is characterized by its contributions to art, literature, and science. The ancient Greeks made significant advancements in various fields, including mathematics, astronomy, and medicine. Greek mythology, with its pantheon of gods and goddesses, has had a lasting impact on Western literature and art.\n",
      "\n",
      "4. **Language**: The official language of Greece is Greek, which has a history that spans over 3,000 years. Modern Greek is derived from ancient Greek, and the language has evolved significantly over the centuries.\n",
      "\n",
      "5. **Economy**: Greece's economy is diverse, with key sectors including tourism, shipping, agriculture, and manufacturing. Tourism is particularly important, as Greece attracts millions of visitors each year to its historical sites, islands, and natural beauty.\n",
      "\n",
      "6. **Cuisine**: Greek cuisine is known for its use of fresh ingredients, olive oil, and herbs. Traditional dishes include moussaka, souvlaki, tzatziki, and baklava. The Mediterranean diet, which emphasizes fruits, vegetables, whole grains, and healthy fats, is prevalent in Greek cooking.\n",
      "\n",
      "7. **Modern Greece**: Greece is a member of the European Union and the Eurozone. It has faced economic challenges in recent years, particularly during the debt crisis that began in 2009, but has made significant progress in recovery.\n",
      "\n",
      "8. **Tourist Attractions**: Popular tourist destinations in Greece include Athens (home to the Acropolis and Parthenon), Santorini (known for its stunning sunsets and white-washed buildings), Mykonos (famous for its nightlife), and Delphi (an ancient religious site).\n",
      "\n",
      "9. **Festivals and Traditions**: Greece has a rich tradition of festivals, many of which are tied to religious celebrations. The Greek Orthodox Church plays a significant role in the cultural life of the country, with Easter being one of the most important holidays.\n",
      "\n",
      "Overall, Greece is a country with a deep historical legacy and vibrant culture, making it a fascinating destination for travelers and scholars alike."
     ]
    },
    {
     "data": {
      "text/plain": [
       "\"Greece is a country located in southeastern Europe, known for its rich history, cultural heritage, and stunning landscapes. Here are some key points about Greece:\\n\\n1. **Geography**: Greece is situated on the southern tip of the Balkan Peninsula and is bordered by Albania, North Macedonia, Bulgaria, and Turkey. It has a vast coastline along the Aegean, Ionian, and Mediterranean Seas, and is made up of numerous islands, with Crete being the largest.\\n\\n2. **History**: Greece is often referred to as the cradle of Western civilization. It is the birthplace of democracy, philosophy, and the Olympic Games. Ancient Greece was home to great philosophers such as Socrates, Plato, and Aristotle, as well as significant historical figures like Alexander the Great.\\n\\n3. **Culture**: Greek culture is characterized by its contributions to art, literature, and science. The ancient Greeks made significant advancements in various fields, including mathematics, astronomy, and medicine. Greek mythology, with its pantheon of gods and goddesses, has had a lasting impact on Western literature and art.\\n\\n4. **Language**: The official language of Greece is Greek, which has a history that spans over 3,000 years. Modern Greek is derived from ancient Greek, and the language has evolved significantly over the centuries.\\n\\n5. **Economy**: Greece's economy is diverse, with key sectors including tourism, shipping, agriculture, and manufacturing. Tourism is particularly important, as Greece attracts millions of visitors each year to its historical sites, islands, and natural beauty.\\n\\n6. **Cuisine**: Greek cuisine is known for its use of fresh ingredients, olive oil, and herbs. Traditional dishes include moussaka, souvlaki, tzatziki, and baklava. The Mediterranean diet, which emphasizes fruits, vegetables, whole grains, and healthy fats, is prevalent in Greek cooking.\\n\\n7. **Modern Greece**: Greece is a member of the European Union and the Eurozone. It has faced economic challenges in recent years, particularly during the debt crisis that began in 2009, but has made significant progress in recovery.\\n\\n8. **Tourist Attractions**: Popular tourist destinations in Greece include Athens (home to the Acropolis and Parthenon), Santorini (known for its stunning sunsets and white-washed buildings), Mykonos (famous for its nightlife), and Delphi (an ancient religious site).\\n\\n9. **Festivals and Traditions**: Greece has a rich tradition of festivals, many of which are tied to religious celebrations. The Greek Orthodox Church plays a significant role in the cultural life of the country, with Easter being one of the most important holidays.\\n\\nOverall, Greece is a country with a deep historical legacy and vibrant culture, making it a fascinating destination for travelers and scholars alike.\""
      ]
     },
     "execution_count": 6,
     "metadata": {},
     "output_type": "execute_result"
    }
   ],
   "source": [
    "chat.predict(\"What do you know about Greece?\")"
   ]
  },
  {
   "cell_type": "code",
   "execution_count": 7,
   "metadata": {},
   "outputs": [],
   "source": [
    "example_template = \"\"\"\n",
    "    Human: {question}\n",
    "    AI: {answer}\n",
    "\"\"\"\n",
    "\n",
    "example_prompt = PromptTemplate.from_template(example_template)"
   ]
  },
  {
   "cell_type": "code",
   "execution_count": 8,
   "metadata": {},
   "outputs": [
    {
     "data": {
      "text/plain": [
       "FewShotPromptTemplate(input_variables=['country'], examples=[{'question': 'What do you know about France?', 'answer': '\\n            Here is what I know:\\n            Capital: Paris\\n            Language: French\\n            Food: Wine and Cheese\\n            Currency: Euro\\n            '}, {'question': 'What do you know about Italy?', 'answer': '\\n            I know this:\\n            Capital: Rome\\n            Language: Italian\\n            Food: Pizza and Pasta\\n            Currency: Euro\\n            '}, {'question': 'What do you know about Greece?', 'answer': '\\n            I know this:\\n            Capital: Athens\\n            Language: Greek\\n            Food: Souvlaki and Feta Cheese\\n            Currency: Euro\\n            '}], example_prompt=PromptTemplate(input_variables=['answer', 'question'], template='\\n    Human: {question}\\n    AI: {answer}\\n'), suffix='Human: What do you know about {country}?')"
      ]
     },
     "execution_count": 8,
     "metadata": {},
     "output_type": "execute_result"
    }
   ],
   "source": [
    "prompt = FewShotPromptTemplate(\n",
    "    example_prompt=example_prompt,\n",
    "    examples=examples,\n",
    "    suffix=\"Human: What do you know about {country}?\",\n",
    "    input_variables=[\"country\"],\n",
    ")\n",
    "\n",
    "prompt"
   ]
  },
  {
   "cell_type": "code",
   "execution_count": 9,
   "metadata": {},
   "outputs": [
    {
     "data": {
      "text/plain": [
       "'\\n    Human: What do you know about France?\\n    AI: \\n            Here is what I know:\\n            Capital: Paris\\n            Language: French\\n            Food: Wine and Cheese\\n            Currency: Euro\\n            \\n\\n\\n\\n    Human: What do you know about Italy?\\n    AI: \\n            I know this:\\n            Capital: Rome\\n            Language: Italian\\n            Food: Pizza and Pasta\\n            Currency: Euro\\n            \\n\\n\\n\\n    Human: What do you know about Greece?\\n    AI: \\n            I know this:\\n            Capital: Athens\\n            Language: Greek\\n            Food: Souvlaki and Feta Cheese\\n            Currency: Euro\\n            \\n\\n\\nHuman: What do you know about Germany?'"
      ]
     },
     "execution_count": 9,
     "metadata": {},
     "output_type": "execute_result"
    }
   ],
   "source": [
    "prompt.format(country=\"Germany\")"
   ]
  },
  {
   "cell_type": "code",
   "execution_count": 10,
   "metadata": {},
   "outputs": [
    {
     "name": "stdout",
     "output_type": "stream",
     "text": [
      "AI: \n",
      "            I know this:\n",
      "            Capital: Berlin\n",
      "            Language: German\n",
      "            Food: Sausages and Sauerkraut\n",
      "            Currency: Euro"
     ]
    },
    {
     "data": {
      "text/plain": [
       "AIMessageChunk(content='AI: \\n            I know this:\\n            Capital: Berlin\\n            Language: German\\n            Food: Sausages and Sauerkraut\\n            Currency: Euro')"
      ]
     },
     "execution_count": 10,
     "metadata": {},
     "output_type": "execute_result"
    }
   ],
   "source": [
    "chain = prompt | chat\n",
    "\n",
    "chain.invoke({\"country\": \"Germnay\"})"
   ]
  },
  {
   "cell_type": "markdown",
   "metadata": {},
   "source": [
    "# 4.2 FewShowChatMessagePromptTemplate"
   ]
  },
  {
   "cell_type": "code",
   "execution_count": 11,
   "metadata": {},
   "outputs": [
    {
     "name": "stdout",
     "output_type": "stream",
     "text": [
      "\n",
      "            I know this:\n",
      "            Capital: Seoul\n",
      "            Language: Korean\n",
      "            Food: Kimchi and Bibimbap\n",
      "            Currency: South Korean Won (KRW)\n",
      "            "
     ]
    },
    {
     "data": {
      "text/plain": [
       "AIMessageChunk(content='\\n            I know this:\\n            Capital: Seoul\\n            Language: Korean\\n            Food: Kimchi and Bibimbap\\n            Currency: South Korean Won (KRW)\\n            ')"
      ]
     },
     "execution_count": 11,
     "metadata": {},
     "output_type": "execute_result"
    }
   ],
   "source": [
    "examples = [\n",
    "    {\n",
    "        \"country\": \"France?\",\n",
    "        \"answer\": \"\"\"\n",
    "            Here is what I know:\n",
    "            Capital: Paris\n",
    "            Language: French\n",
    "            Food: Wine and Cheese\n",
    "            Currency: Euro\n",
    "            \"\"\",\n",
    "    },\n",
    "    {\n",
    "        \"country\": \"Italy?\",\n",
    "        \"answer\": \"\"\"\n",
    "            I know this:\n",
    "            Capital: Rome\n",
    "            Language: Italian\n",
    "            Food: Pizza and Pasta\n",
    "            Currency: Euro\n",
    "            \"\"\",\n",
    "    },\n",
    "    {\n",
    "        \"country\": \"Greece?\",\n",
    "        \"answer\": \"\"\"\n",
    "            I know this:\n",
    "            Capital: Athens\n",
    "            Language: Greek\n",
    "            Food: Souvlaki and Feta Cheese\n",
    "            Currency: Euro\n",
    "            \"\"\",\n",
    "    },\n",
    "]\n",
    "\n",
    "example_prompt = ChatPromptTemplate.from_messages(\n",
    "    [\n",
    "        (\"human\", \"What do you know about {country}?\"),\n",
    "        (\"ai\", \"{answer}\"),\n",
    "    ]\n",
    ")\n",
    "\n",
    "fs_example_prompt = FewShotChatMessagePromptTemplate(\n",
    "    example_prompt=example_prompt,\n",
    "    examples=examples,\n",
    ")\n",
    "\n",
    "final_prompt = ChatPromptTemplate.from_messages(\n",
    "    [\n",
    "        (\"system\", \"You are a geography expert. Youu give short answers.\"),\n",
    "        fs_example_prompt,\n",
    "        (\"human\", \"What do you know about {country}?\"),\n",
    "    ]\n",
    ")\n",
    "\n",
    "chain = final_prompt | chat\n",
    "\n",
    "chain.invoke({\"country\": \"Republic of Korea\"})"
   ]
  },
  {
   "cell_type": "markdown",
   "metadata": {},
   "source": [
    "# 4.3 LengthBasedExampleSelector"
   ]
  },
  {
   "cell_type": "code",
   "execution_count": 18,
   "metadata": {},
   "outputs": [],
   "source": [
    "from typing import Any, Dict\n",
    "\n",
    "\n",
    "class RandomExapleSelector(BaseExampleSelector):\n",
    "\n",
    "    def __init__(self, examples):\n",
    "        self.examples = examples\n",
    "\n",
    "    def add_example(self, example):\n",
    "        return super().add_example(example)\n",
    "\n",
    "    def select_examples(self, input_variables):\n",
    "        from random import choice\n",
    "\n",
    "        return [choice(self.examples)]"
   ]
  },
  {
   "cell_type": "code",
   "execution_count": 26,
   "metadata": {},
   "outputs": [
    {
     "data": {
      "text/plain": [
       "'\\n    Human: What do you know about Italy?\\n    AI: \\n            I know this:\\n            Capital: Rome\\n            Language: Italian\\n            Food: Pizza and Pasta\\n            Currency: Euro\\n            \\n\\n\\nHuman: What do you know about Brazil?'"
      ]
     },
     "execution_count": 26,
     "metadata": {},
     "output_type": "execute_result"
    }
   ],
   "source": [
    "examples = [\n",
    "    {\n",
    "        \"question\": \"What do you know about France?\",\n",
    "        \"answer\": \"\"\"\n",
    "            Here is what I know:\n",
    "            Capital: Paris\n",
    "            Language: French\n",
    "            Food: Wine and Cheese\n",
    "            Currency: Euro\n",
    "            \"\"\",\n",
    "    },\n",
    "    {\n",
    "        \"question\": \"What do you know about Italy?\",\n",
    "        \"answer\": \"\"\"\n",
    "            I know this:\n",
    "            Capital: Rome\n",
    "            Language: Italian\n",
    "            Food: Pizza and Pasta\n",
    "            Currency: Euro\n",
    "            \"\"\",\n",
    "    },\n",
    "    {\n",
    "        \"question\": \"What do you know about Greece?\",\n",
    "        \"answer\": \"\"\"\n",
    "            I know this:\n",
    "            Capital: Athens\n",
    "            Language: Greek\n",
    "            Food: Souvlaki and Feta Cheese\n",
    "            Currency: Euro\n",
    "            \"\"\",\n",
    "    },\n",
    "]\n",
    "\n",
    "example_template = \"\"\"\n",
    "    Human: {question}\n",
    "    AI: {answer}\n",
    "\"\"\"\n",
    "\n",
    "example_prompt = PromptTemplate.from_template(example_template)\n",
    "\n",
    "# example_selector = LengthBasedExampleSelector(\n",
    "#     examples=examples, example_prompt=example_prompt, max_length=120\n",
    "# )\n",
    "\n",
    "example_selector = RandomExapleSelector(examples=examples)\n",
    "\n",
    "prompt = FewShotPromptTemplate(\n",
    "    example_prompt=example_prompt,\n",
    "    example_selector=example_selector,\n",
    "    suffix=\"Human: What do you know about {country}?\",\n",
    "    input_variables=[\"country\"],\n",
    ")\n",
    "\n",
    "prompt.format(country=\"Brazil\")\n",
    "\n",
    "# final_prompt = ChatPromptTemplate.from_messages([\n",
    "#     (\"system\", \"You are a geography expert\"),\n",
    "#     fs_example_prompt,\n",
    "#     (\"human\", \"What do you know about {country}?\")\n",
    "# ])\n",
    "\n",
    "\n",
    "# chain = final_prompt | chat\n",
    "\n",
    "# chain.invoke({\"country\": \"Republic of Korea\"})"
   ]
  },
  {
   "cell_type": "markdown",
   "metadata": {},
   "source": [
    "# 4.4 Serialization and Composition"
   ]
  },
  {
   "cell_type": "code",
   "execution_count": 30,
   "metadata": {},
   "outputs": [
    {
     "data": {
      "text/plain": [
       "'What is the capital of South Korea'"
      ]
     },
     "execution_count": 30,
     "metadata": {},
     "output_type": "execute_result"
    }
   ],
   "source": [
    "# load prompt in json format.\n",
    "\n",
    "prompt_json = load_prompt(\"./prompt.json\")\n",
    "\n",
    "prompt_json.format(country=\"South Korea\")"
   ]
  },
  {
   "cell_type": "code",
   "execution_count": 32,
   "metadata": {},
   "outputs": [
    {
     "data": {
      "text/plain": [
       "'What is the capital of France'"
      ]
     },
     "execution_count": 32,
     "metadata": {},
     "output_type": "execute_result"
    }
   ],
   "source": [
    "# load prompt in yaml format.\n",
    "\n",
    "prompt_yaml = load_prompt(\"./prompt.json\")\n",
    "\n",
    "prompt_yaml.format(country=\"France\")"
   ]
  },
  {
   "cell_type": "code",
   "execution_count": 34,
   "metadata": {},
   "outputs": [
    {
     "data": {
      "text/plain": [
       "'\\n\\nYou are a role playing assistant.\\nAnd you are impersonating a Assassin\\n\\n\\n\\nThis is an example of how you talk:\\n\\nHuman: What is your location\\nYou: Shhhh, That is secret\\n\\n\\n\\nStart now!\\n\\nHuman: Who is your target?\\nYou:\\n\\n'"
      ]
     },
     "execution_count": 34,
     "metadata": {},
     "output_type": "execute_result"
    }
   ],
   "source": [
    "# pipeline\n",
    "\n",
    "intro = PromptTemplate.from_template(\n",
    "    \"\"\"\n",
    "You are a role playing assistant.\n",
    "And you are impersonating a {character}\n",
    "\"\"\"\n",
    ")\n",
    "\n",
    "example = PromptTemplate.from_template(\n",
    "    \"\"\"\n",
    "This is an example of how you talk:\n",
    "\n",
    "Human: {example_question}\n",
    "You: {example_answer}\n",
    "\"\"\"\n",
    ")\n",
    "\n",
    "start = PromptTemplate.from_template(\n",
    "    \"\"\"\n",
    "Start now!\n",
    "\n",
    "Human: {question}\n",
    "You:\n",
    "\"\"\"\n",
    ")\n",
    "\n",
    "final = PromptTemplate.from_template(\n",
    "    \"\"\"\n",
    "{intro}\n",
    "\n",
    "{example}\n",
    "\n",
    "{start}\n",
    "\"\"\"\n",
    ")\n",
    "\n",
    "prompts = [\n",
    "    (\"intro\", intro),\n",
    "    (\"example\", example),\n",
    "    (\"start\", start),\n",
    "]\n",
    "\n",
    "full_prompt = PipelinePromptTemplate(\n",
    "    final_prompt=final,\n",
    "    pipeline_prompts=prompts,\n",
    ")\n",
    "\n",
    "full_prompt.format(\n",
    "    character=\"Assassin\",\n",
    "    example_question=\"What is your location\",\n",
    "    example_answer=\"Shhhh, That is secret\",\n",
    "    question=\"Who is your target?\",\n",
    ")"
   ]
  },
  {
   "cell_type": "code",
   "execution_count": 35,
   "metadata": {},
   "outputs": [
    {
     "name": "stdout",
     "output_type": "stream",
     "text": [
      "Shhhh, that information is classified. Discretion is key in my line of work."
     ]
    },
    {
     "data": {
      "text/plain": [
       "AIMessageChunk(content='Shhhh, that information is classified. Discretion is key in my line of work.')"
      ]
     },
     "execution_count": 35,
     "metadata": {},
     "output_type": "execute_result"
    }
   ],
   "source": [
    "chain = full_prompt | chat\n",
    "\n",
    "chain.invoke(\n",
    "    {\n",
    "        \"character\": \"Assassin\",\n",
    "        \"example_question\": \"What is your location\",\n",
    "        \"example_answer\": \"Shhhh, That is secret\",\n",
    "        \"question\": \"Who is your target?\",\n",
    "    }\n",
    ")"
   ]
  },
  {
   "cell_type": "code",
   "execution_count": null,
   "metadata": {},
   "outputs": [],
   "source": []
  }
 ],
 "metadata": {
  "kernelspec": {
   "display_name": "fullstack-gpt",
   "language": "python",
   "name": "python3"
  },
  "language_info": {
   "codemirror_mode": {
    "name": "ipython",
    "version": 3
   },
   "file_extension": ".py",
   "mimetype": "text/x-python",
   "name": "python",
   "nbconvert_exporter": "python",
   "pygments_lexer": "ipython3",
   "version": "3.11.11"
  }
 },
 "nbformat": 4,
 "nbformat_minor": 2
}
