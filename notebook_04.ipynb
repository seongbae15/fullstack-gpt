{
 "cells": [
  {
   "cell_type": "code",
   "execution_count": 1,
   "metadata": {},
   "outputs": [],
   "source": [
    "from langchain.chat_models import ChatOpenAI\n",
    "from langchain.prompts import PromptTemplate\n",
    "from langchain.prompts.few_shot import FewShotPromptTemplate\n",
    "from langchain.callbacks import StreamingStdOutCallbackHandler"
   ]
  },
  {
   "cell_type": "code",
   "execution_count": 2,
   "metadata": {},
   "outputs": [],
   "source": [
    "chat = ChatOpenAI(\n",
    "    temperature=0.1,\n",
    "    streaming=True,\n",
    "    callbacks=[\n",
    "        StreamingStdOutCallbackHandler(),\n",
    "    ],\n",
    ")"
   ]
  },
  {
   "cell_type": "code",
   "execution_count": 16,
   "metadata": {},
   "outputs": [
    {
     "data": {
      "text/plain": [
       "PromptTemplate(input_variables=['country'], template='What is the capital of {country}?')"
      ]
     },
     "execution_count": 16,
     "metadata": {},
     "output_type": "execute_result"
    }
   ],
   "source": [
    "t = PromptTemplate.from_template(\"What is the capital of {country}?\")\n",
    "t"
   ]
  },
  {
   "cell_type": "code",
   "execution_count": 12,
   "metadata": {},
   "outputs": [
    {
     "data": {
      "text/plain": [
       "'What is the capital of Spain?'"
      ]
     },
     "execution_count": 12,
     "metadata": {},
     "output_type": "execute_result"
    }
   ],
   "source": [
    "t.format(country=\"Spain\")"
   ]
  },
  {
   "cell_type": "code",
   "execution_count": 17,
   "metadata": {},
   "outputs": [],
   "source": [
    "examples = [\n",
    "    {\n",
    "        \"question\": \"What do you know about France?\",\n",
    "        \"answer\": \"\"\"\n",
    "            Here is what I know:\n",
    "            Capital: Paris\n",
    "            Language: French\n",
    "            Food: Wine and Cheese\n",
    "            Currency: Euro\n",
    "            \"\"\",\n",
    "    },\n",
    "    {\n",
    "        \"question\": \"What do you know about Italy?\",\n",
    "        \"answer\": \"\"\"\n",
    "            I know this:\n",
    "            Capital: Rome\n",
    "            Language: Italian\n",
    "            Food: Pizza and Pasta\n",
    "            Currency: Euro\n",
    "            \"\"\",\n",
    "    },\n",
    "    {\n",
    "        \"question\": \"What do you know about Greece?\",\n",
    "        \"answer\": \"\"\"\n",
    "            I know this:\n",
    "            Capital: Athens\n",
    "            Language: Greek\n",
    "            Food: Souvlaki and Feta Cheese\n",
    "            Currency: Euro\n",
    "            \"\"\",\n",
    "    },\n",
    "]"
   ]
  },
  {
   "cell_type": "code",
   "execution_count": 18,
   "metadata": {},
   "outputs": [
    {
     "name": "stdout",
     "output_type": "stream",
     "text": [
      "Greece is a country located in southeastern Europe, known for its rich history, ancient civilization, and stunning landscapes. It is considered the cradle of Western civilization, as it was the birthplace of democracy, philosophy, and the Olympic Games.\n",
      "\n",
      "The country is famous for its ancient ruins, including the Acropolis in Athens, the Temple of Apollo in Delphi, and the Palace of Knossos in Crete. Greece is also known for its beautiful islands, such as Santorini, Mykonos, and Corfu, which attract millions of tourists each year.\n",
      "\n",
      "Greek cuisine is also popular worldwide, with dishes like moussaka, souvlaki, and baklava being enjoyed by people all over the world. The country is also known for its vibrant culture, including traditional music, dance, and festivals.\n",
      "\n",
      "Greece has faced economic challenges in recent years, but it remains a popular destination for travelers seeking history, culture, and natural beauty."
     ]
    },
    {
     "data": {
      "text/plain": [
       "'Greece is a country located in southeastern Europe, known for its rich history, ancient civilization, and stunning landscapes. It is considered the cradle of Western civilization, as it was the birthplace of democracy, philosophy, and the Olympic Games.\\n\\nThe country is famous for its ancient ruins, including the Acropolis in Athens, the Temple of Apollo in Delphi, and the Palace of Knossos in Crete. Greece is also known for its beautiful islands, such as Santorini, Mykonos, and Corfu, which attract millions of tourists each year.\\n\\nGreek cuisine is also popular worldwide, with dishes like moussaka, souvlaki, and baklava being enjoyed by people all over the world. The country is also known for its vibrant culture, including traditional music, dance, and festivals.\\n\\nGreece has faced economic challenges in recent years, but it remains a popular destination for travelers seeking history, culture, and natural beauty.'"
      ]
     },
     "execution_count": 18,
     "metadata": {},
     "output_type": "execute_result"
    }
   ],
   "source": [
    "chat.predict(\"What do you know about Greece?\")"
   ]
  },
  {
   "cell_type": "code",
   "execution_count": 19,
   "metadata": {},
   "outputs": [
    {
     "data": {
      "text/plain": [
       "PromptTemplate(input_variables=['answer', 'question'], template='\\n    Human: {question}\\n    AI: {answer}\\n')"
      ]
     },
     "execution_count": 19,
     "metadata": {},
     "output_type": "execute_result"
    }
   ],
   "source": [
    "example_template = \"\"\"\n",
    "    Human: {question}\n",
    "    AI: {answer}\n",
    "\"\"\"\n",
    "\n",
    "example_prompt = PromptTemplate.from_template(example_template)\n",
    "example_prompt"
   ]
  },
  {
   "cell_type": "code",
   "execution_count": 20,
   "metadata": {},
   "outputs": [
    {
     "data": {
      "text/plain": [
       "FewShotPromptTemplate(input_variables=['country'], examples=[{'question': 'What do you know about France?', 'answer': '\\n            Here is what I know:\\n            Capital: Paris\\n            Language: French\\n            Food: Wine and Cheese\\n            Currency: Euro\\n            '}, {'question': 'What do you know about Italy?', 'answer': '\\n            I know this:\\n            Capital: Rome\\n            Language: Italian\\n            Food: Pizza and Pasta\\n            Currency: Euro\\n            '}, {'question': 'What do you know about Greece?', 'answer': '\\n            I know this:\\n            Capital: Athens\\n            Language: Greek\\n            Food: Souvlaki and Feta Cheese\\n            Currency: Euro\\n            '}], example_prompt=PromptTemplate(input_variables=['answer', 'question'], template='\\n    Human: {question}\\n    AI: {answer}\\n'), suffix='Human: What do you know about {country}?')"
      ]
     },
     "execution_count": 20,
     "metadata": {},
     "output_type": "execute_result"
    }
   ],
   "source": [
    "prompt = FewShotPromptTemplate(\n",
    "    example_prompt=example_prompt,\n",
    "    examples=examples,\n",
    "    suffix=\"Human: What do you know about {country}?\",\n",
    "    input_variables=[\"country\"]\n",
    ")\n",
    "\n",
    "prompt"
   ]
  },
  {
   "cell_type": "code",
   "execution_count": 21,
   "metadata": {},
   "outputs": [
    {
     "data": {
      "text/plain": [
       "'\\n    Human: What do you know about France?\\n    AI: \\n            Here is what I know:\\n            Capital: Paris\\n            Language: French\\n            Food: Wine and Cheese\\n            Currency: Euro\\n            \\n\\n\\n\\n    Human: What do you know about Italy?\\n    AI: \\n            I know this:\\n            Capital: Rome\\n            Language: Italian\\n            Food: Pizza and Pasta\\n            Currency: Euro\\n            \\n\\n\\n\\n    Human: What do you know about Greece?\\n    AI: \\n            I know this:\\n            Capital: Athens\\n            Language: Greek\\n            Food: Souvlaki and Feta Cheese\\n            Currency: Euro\\n            \\n\\n\\nHuman: What do you know about Germany?'"
      ]
     },
     "execution_count": 21,
     "metadata": {},
     "output_type": "execute_result"
    }
   ],
   "source": [
    "prompt.format(country=\"Germany\")"
   ]
  },
  {
   "cell_type": "code",
   "execution_count": 23,
   "metadata": {},
   "outputs": [
    {
     "name": "stdout",
     "output_type": "stream",
     "text": [
      "AI: \n",
      "            Here is what I know:\n",
      "            Capital: Berlin\n",
      "            Language: German\n",
      "            Food: Bratwurst and Sauerkraut\n",
      "            Currency: Euro"
     ]
    },
    {
     "data": {
      "text/plain": [
       "AIMessageChunk(content='AI: \\n            Here is what I know:\\n            Capital: Berlin\\n            Language: German\\n            Food: Bratwurst and Sauerkraut\\n            Currency: Euro')"
      ]
     },
     "execution_count": 23,
     "metadata": {},
     "output_type": "execute_result"
    }
   ],
   "source": [
    "chain = prompt | chat\n",
    "\n",
    "chain.invoke({\"country\": \"Germnay\"})"
   ]
  },
  {
   "cell_type": "code",
   "execution_count": null,
   "metadata": {},
   "outputs": [],
   "source": []
  }
 ],
 "metadata": {
  "kernelspec": {
   "display_name": "fullstack-gpt",
   "language": "python",
   "name": "python3"
  },
  "language_info": {
   "codemirror_mode": {
    "name": "ipython",
    "version": 3
   },
   "file_extension": ".py",
   "mimetype": "text/x-python",
   "name": "python",
   "nbconvert_exporter": "python",
   "pygments_lexer": "ipython3",
   "version": "3.11.11"
  }
 },
 "nbformat": 4,
 "nbformat_minor": 2
}
