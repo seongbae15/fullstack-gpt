{
 "cells": [
  {
   "cell_type": "code",
   "execution_count": 3,
   "metadata": {},
   "outputs": [],
   "source": [
    "import subprocess\n",
    "\n",
    "def extract_audio_from_video(video_path, audio_path):\n",
    "    command = [\"ffmpeg\", \"-i\", video_path, \"-vn\", audio_path]\n",
    "    subprocess.run(command)\n"
   ]
  },
  {
   "cell_type": "code",
   "execution_count": 4,
   "metadata": {},
   "outputs": [
    {
     "name": "stderr",
     "output_type": "stream",
     "text": [
      "ffmpeg version 7.1.1 Copyright (c) 2000-2025 the FFmpeg developers\n",
      "  built with Apple clang version 16.0.0 (clang-1600.0.26.6)\n",
      "  configuration: --prefix=/opt/homebrew/Cellar/ffmpeg/7.1.1_2 --enable-shared --enable-pthreads --enable-version3 --cc=clang --host-cflags= --host-ldflags='-Wl,-ld_classic' --enable-ffplay --enable-gnutls --enable-gpl --enable-libaom --enable-libaribb24 --enable-libbluray --enable-libdav1d --enable-libharfbuzz --enable-libjxl --enable-libmp3lame --enable-libopus --enable-librav1e --enable-librist --enable-librubberband --enable-libsnappy --enable-libsrt --enable-libssh --enable-libsvtav1 --enable-libtesseract --enable-libtheora --enable-libvidstab --enable-libvmaf --enable-libvorbis --enable-libvpx --enable-libwebp --enable-libx264 --enable-libx265 --enable-libxml2 --enable-libxvid --enable-lzma --enable-libfontconfig --enable-libfreetype --enable-frei0r --enable-libass --enable-libopencore-amrnb --enable-libopencore-amrwb --enable-libopenjpeg --enable-libspeex --enable-libsoxr --enable-libzmq --enable-libzimg --disable-libjack --disable-indev=jack --enable-videotoolbox --enable-audiotoolbox --enable-neon\n",
      "  libavutil      59. 39.100 / 59. 39.100\n",
      "  libavcodec     61. 19.101 / 61. 19.101\n",
      "  libavformat    61.  7.100 / 61.  7.100\n",
      "  libavdevice    61.  3.100 / 61.  3.100\n",
      "  libavfilter    10.  4.100 / 10.  4.100\n",
      "  libswscale      8.  3.100 /  8.  3.100\n",
      "  libswresample   5.  3.100 /  5.  3.100\n",
      "  libpostproc    58.  3.100 / 58.  3.100\n",
      "Input #0, mov,mp4,m4a,3gp,3g2,mj2, from '../files/podcast.mp4':\n",
      "  Metadata:\n",
      "    major_brand     : mp42\n",
      "    minor_version   : 0\n",
      "    compatible_brands: isommp42\n",
      "    encoder         : Google\n",
      "  Duration: 03:43:33.80, start: 0.000000, bitrate: 355 kb/s\n",
      "  Stream #0:0[0x1](und): Video: h264 (Main) (avc1 / 0x31637661), yuv420p(tv, bt709, progressive), 640x360 [SAR 1:1 DAR 16:9], 257 kb/s, 30 fps, 30 tbr, 15360 tbn (default)\n",
      "      Metadata:\n",
      "        handler_name    : ISO Media file produced by Google Inc.\n",
      "        vendor_id       : [0][0][0][0]\n",
      "  Stream #0:1[0x2](eng): Audio: aac (LC) (mp4a / 0x6134706D), 44100 Hz, stereo, fltp, 95 kb/s (default)\n",
      "      Metadata:\n",
      "        handler_name    : ISO Media file produced by Google Inc.\n",
      "        vendor_id       : [0][0][0][0]\n",
      "Stream mapping:\n",
      "  Stream #0:1 -> #0:0 (aac (native) -> mp3 (libmp3lame))\n",
      "Press [q] to stop, [?] for help\n",
      "Output #0, mp3, to '../files/podcast_audio.mp3':\n",
      "  Metadata:\n",
      "    major_brand     : mp42\n",
      "    minor_version   : 0\n",
      "    compatible_brands: isommp42\n",
      "    TSSE            : Lavf61.7.100\n",
      "  Stream #0:0(eng): Audio: mp3, 44100 Hz, stereo, fltp (default)\n",
      "      Metadata:\n",
      "        handler_name    : ISO Media file produced by Google Inc.\n",
      "        vendor_id       : [0][0][0][0]\n",
      "        encoder         : Lavc61.19.101 libmp3lame\n",
      "[out#0/mp3 @ 0x14f70d2b0] video:0KiB audio:209591KiB subtitle:0KiB other streams:0KiB global headers:0KiB muxing overhead: 0.000161%\n",
      "size=  209591KiB time=03:43:33.79 bitrate= 128.0kbits/s speed= 230x    \n"
     ]
    }
   ],
   "source": [
    "extract_audio_from_video(\"../files/podcast.mp4\", \"../files/podcast_audio.mp3\")"
   ]
  },
  {
   "cell_type": "code",
   "execution_count": 1,
   "metadata": {},
   "outputs": [],
   "source": [
    "from pydub import AudioSegment"
   ]
  },
  {
   "cell_type": "code",
   "execution_count": 2,
   "metadata": {},
   "outputs": [],
   "source": [
    "track = AudioSegment.from_mp3(\"../files/podcast_audio.mp3\")"
   ]
  },
  {
   "cell_type": "code",
   "execution_count": 3,
   "metadata": {},
   "outputs": [
    {
     "data": {
      "text/plain": [
       "13413.796281179139"
      ]
     },
     "execution_count": 3,
     "metadata": {},
     "output_type": "execute_result"
    }
   ],
   "source": [
    "track.duration_seconds"
   ]
  },
  {
   "cell_type": "code",
   "execution_count": 10,
   "metadata": {},
   "outputs": [
    {
     "data": {
      "text/plain": [
       "223.56327135298565"
      ]
     },
     "execution_count": 10,
     "metadata": {},
     "output_type": "execute_result"
    }
   ],
   "source": [
    "13413.796281179139 / 60"
   ]
  },
  {
   "cell_type": "code",
   "execution_count": 7,
   "metadata": {},
   "outputs": [],
   "source": [
    "five_min_track = track[:5*60*1000]"
   ]
  },
  {
   "cell_type": "code",
   "execution_count": 8,
   "metadata": {},
   "outputs": [
    {
     "data": {
      "text/plain": [
       "<_io.BufferedRandom name='../files/first_five.mp3'>"
      ]
     },
     "execution_count": 8,
     "metadata": {},
     "output_type": "execute_result"
    }
   ],
   "source": [
    "five_min_track.export(\"../files/first_five.mp3\", format=\"mp3\")"
   ]
  },
  {
   "cell_type": "code",
   "execution_count": 9,
   "metadata": {},
   "outputs": [
    {
     "data": {
      "text/plain": [
       "22.356326666666668"
      ]
     },
     "execution_count": 9,
     "metadata": {},
     "output_type": "execute_result"
    }
   ],
   "source": [
    "len(track) / (10 * 60 * 1000)"
   ]
  },
  {
   "cell_type": "code",
   "execution_count": 11,
   "metadata": {},
   "outputs": [],
   "source": [
    "import math"
   ]
  },
  {
   "cell_type": "code",
   "execution_count": 17,
   "metadata": {},
   "outputs": [
    {
     "name": "stdout",
     "output_type": "stream",
     "text": [
      "23\n"
     ]
    }
   ],
   "source": [
    "minutes = 10\n",
    "min2ms = 60 * 1000\n",
    "sep_ms = minutes * min2ms\n",
    "chunck_length = math.ceil(len(track) / sep_ms)\n",
    "print(chunck_length)"
   ]
  },
  {
   "cell_type": "code",
   "execution_count": 18,
   "metadata": {},
   "outputs": [],
   "source": [
    "for i in range(chunck_length):\n",
    "    start_part = i * sep_ms\n",
    "    end_part = (i+1) * sep_ms\n",
    "    file_name = f\"podcast_chunk_{i*minutes:03d}.mp3\"\n",
    "\n",
    "    chunk = track[start_part:end_part]\n",
    "    chunk.export(f\"../files/audio_chunks/{file_name}\")"
   ]
  },
  {
   "cell_type": "code",
   "execution_count": 1,
   "metadata": {},
   "outputs": [],
   "source": [
    "def cut_audio_in_chunks(audio_path, chunk_size, chunk_dir):\n",
    "    track = AudioSegment.from_mp3(audio_path)\n",
    "    min2ms = 60 * 1000\n",
    "    sep_ms = chunk_size * min2ms\n",
    "    chunck_length = math.ceil(len(track) / sep_ms)\n",
    "\n",
    "    for i in range(chunck_length):\n",
    "        start_part = i * sep_ms\n",
    "        end_part = (i+1) * sep_ms\n",
    "        file_name = f\"podcast_chunk_{i*chunk_size:03d}.mp3\"\n",
    "\n",
    "        chunk = track[start_part:end_part]\n",
    "        chunk.export(f\"{chunk_dir}/{file_name}\")\n",
    "    "
   ]
  },
  {
   "cell_type": "code",
   "execution_count": 8,
   "metadata": {},
   "outputs": [],
   "source": [
    "import openai\n",
    "from glob import glob"
   ]
  },
  {
   "cell_type": "code",
   "execution_count": 3,
   "metadata": {},
   "outputs": [],
   "source": [
    "transciprt = openai.Audio.transcribe(\"whisper-1\", open(\"../files/sample_chunks/podcast_chunk_000.mp3\", \"rb\"))"
   ]
  },
  {
   "cell_type": "code",
   "execution_count": 7,
   "metadata": {},
   "outputs": [
    {
     "name": "stdout",
     "output_type": "stream",
     "text": [
      "So I was trying to figure out how to do photorealistic AI photos and it was stable diffusion by itself is not doing that well, like the faces look all mangled. And it doesn't have enough resolution or something to do that well. But I started seeing these base models, these fine-tuned models, and people would train on porn and I would try them and they would be very photorealistic. They would have bodies that actually made sense, like body anatomy. But if you look at the photorealistic models that people use now still, there's still a core of porn there, like of naked people. So I need to prompt out the naked, and everyone needs to do this with AI startups, with imaging, you need to prompt out the naked stuff. You have to keep reminding the model you need to put clothes on. Yeah, don't put naked because it's very risky. I have Google Vision that checks every photo before it's shown to the user to like check. Like a nipple detector? Oh, NSFW detector. Because you get the journalists get very angry. The following is a conversation with Peter Levels, also known on X as Levels IO. He is a self-taught developer and entrepreneur who designed, programmed, shipped and ran over 40 startups, many of which are hugely successful. In most cases, he did it all by himself, while living the digital nomad life in over 40 countries and over 150 cities. Programming on a laptop while chilling on a couch, using vanilla HTML, jQuery, PHP and SQLite. He builds and ships quickly and improves on the fly, all in the open, documenting his work, both his successes and failures with a raw honesty of a true indie hacker. Peter is an inspiration to a huge number of developers and entrepreneurs who love creating cool things in the world that are hopefully useful for people. This was an honor and a pleasure for me. This is the Lex Friedman Podcast. To support it, please check out our sponsors in the description. And now, dear friends, here's Peter Levels. You've launched a lot of companies and built a lot of products. As you say, most failed, but some succeeded. What's your philosophy behind building the startups that you did? I think my philosophy is very different than most people in startups, because most people in startups, they build a company and they raise money, right? And they hire people and then they build a product and they find something that makes money. And I don't really raise money. I don't use VC funding. I do everything myself. I'm a designer. I'm the developer. I make everything. I make the logo. So for me, I'm much more scrappy. And because I don't have funding, I need to go fast. I need to make things fast to see if an idea works, right? I have an idea in my mind and I build it, build it like a micro, mini startup. And I launch it very quickly, like within two weeks or something of building it. And I check if there's demand and if people actually sign up. And not just sign up, but if people actually pay money, right? Like they need to take out their credit cards, pay me money. And then I can see if the idea is validated. And most ideas don't work. Like, as you say, most fail. So there's this rapid iterative phase where you just build a prototype that works, launch it. Yeah. See if people like it, improving it really, really quickly to see if people like it a little bit more enough to pay and all that. That whole rapid process is how you think of... Yeah. I think it's like, it's very rapid. And it's like, if I compare it to, for example, Google, you know, like our big tech companies, especially Google right now is kind of struggling. Like they made like transformers. They made all, they invented all the AI stuff years ago and they never really shipped. Like they could have shipped JetGPT, for example, I think I heard in 2019. And they never shipped it because they were so stuck in bureaucracy. But they had everything. They had the data, they had the tech, they had the engineers. And they didn't do it. And it's because these big organizations, it can make you very slow. So being alone by myself on my laptop, like, you know, in my underwear, in a hotel room or something, I can ship very fast. And I don't need to like, I don't need to ask like legal for like, oh, can you vouch for this? You know, I can just go and ship. Do you always code in your underwear? Your profile picture, you're like slouching on a couch in your underwear, chilling on a laptop. No, but I do wear like shorts a lot. And I usually just wear shorts. And no t-shirt because I'm always too hot. Like I'm always overheating. Thank you for showing up, not just in your underwear, but wearing shorts. And no, you know, I'm still wearing this for you. Thank you. Thank you for dressing up. I think it's because since I go to the gym, I'm always too hot. What's your favorite exercise in the gym? Man, overhead press. Overhead press, like shoulder press? Yeah. Okay. But it feels good because you're doing like, you win. Because when you, what is it? I do 60 kilos, so it's like 120 pounds or something. Like it's my only thing I can do well, you know, in the gym. And you stand like this and you're like, I did it. You know, like a winner pose, a victory pose. I do bench press squats, deadlifts. Hence the mug. Yeah. Talking to my therapist. Yeah. It's a deadlift. Yeah. Because it acts like therapy for me, you know? Yeah, it is. Which is controversial to say. Like if I say this on Twitter, people get angry. Physical hardship is a kind of therapy. Yeah. I just rewatched Happy People, Year in the Taiga. That Werner Herzog film where they document people that are doing trapping. They're essentially just working for survival in the wilderness year round. Yeah. And there's a deep happiness to their way of life. Yeah. Because they're so busy in it, in nature. Yeah, 100%. Like there's something about that physical. Physical, yeah. Toil. Yeah. My dad taught me that. My dad always does like construction in the house. Like he's always renovating the house. He breaks through one room and then he goes to the next room. And he's just going in a circle around the house for like the last 40 years. But so he's always doing construction in the house and it's his hobby. He taught me when I'm depressed or something. He says like, get a big, what do you call it? Like a big mountain of sand or something from construction. Just get a shovel and bring it to the other side and just do like physical labor. Do like hard work and do something. Like set a goal, do something. And I kind of did that with startups too. Yeah, construction is not about the destination, man. It's about the journey. Yeah. Yeah, sometimes I wonder people who are always remodeling their house. Is it really about their modeling or something? No, no, it's not. Is it about the project? It's about the journey. The puzzle of it. No, he doesn't care about the results. Well, he shows me. He's like, it's amazing. I'm like, yeah, it's amazing. But then he wants to go to the next room, you know? But I think it's very metaphorical for work. Because I also, I never stop work. I go to the next website or I make a new one, right? Or I make a new startup. So I'm always like, it gives you something to wake up in the morning and like, you know, have coffee and kiss your girlfriend. And then you have like a goal. Today, I'm going to fix this feature. Today, I'm going to fix this bug or something. I'm going to do something. You have something to wake up to, you know? And I think maybe especially as a man, also women. But you need a hard work, you know? You need like an endeavor, I think. How much of the building that you do is about money? How much is it about just a deep internal happiness? It's really about fun. Because I was doing it when I didn't make money, right? That's the point. So I was always coding. I was always making music. I made electronic music, drum and bass music like 20 years ago. And I was always making stuff. So I think creative expression is like a meaningful work. It's so important. It's so fun. It's so fun to have like a daily challenge where you try to figure stuff out. But the interesting thing is you've built a lot of successful products and you never really wanted to take it to that level where you scale real big and sell it to a company or something like this. Yeah. The problem is I don't dictate that, right? If more people start using it, if millions of people suddenly start using it and it becomes big, I'm not going to say, oh, stop signing up to my website and pay me money. But I never raised funding for it. And I think because I don't like the stressful life that comes with it. I have a lot of founder friends and they tell me secretly, with hundreds of millions of dollars in funding and stuff. And they tell me like, next time, if I'm going to do it, I'm going to do it like you. Because it's more fun. It's more indie. It's more chill. It's more creative. They don't like this. They don't like to be manager, right? You become like a CEO, you become a manager. And I think a lot of people that start startups, when they become a CEO, they don't like that job actually, but they can't really exit it, you know? But they like to do the groundwork, the coding. So I think that keeps you happy, like doing something creative. Yeah, it was interesting how people are pulled towards that, to scale, to go really big. And you don't have that honest reflection with yourself, like what actually makes you happy? Because for a lot of great engineers, what makes them happy is the building, the quote-unquote individual contributor, like where you're actually still coding or you're actually still building. And they let go of that and then they become unhappy. But some of that is the sacrifice needed to have an impacted scale, if you truly believe in a thing you're doing. But like, look at Elon, he's doing things a million times bigger than me, right? And would I want to do that? I don't know, you can't really choose these things, right? But I really respect that. I think Elon's very different from VC founders, right? VC start, it's like software. There's a lot of bullshit in this world, I think. There's a lot of dodgy finance stuff happening there, I think. And I never have concrete evidence about it, but your gut tells you something's going on with companies getting sold to friends and VCs, and then they do reciprocity and shady financial dealings. With Elon, that's not. He's just raising money from investors and he's actually building stuff. He needs the money to build stuff, hardware stuff. And that I really respect. You said that there's been a few low points in your life. You've been depressed, and the building is one of the ways you get out of that. But can you talk to that? Can you take me to that place, that time when you were at a low point? So I was in Holland and I graduated university and I didn't want to get a normal job. And I was making some money with YouTube because I had this music career and I uploaded my music to YouTube. And YouTube started paying me with AdSense, like $2,000 a month, $2,000 a month.\n"
     ]
    }
   ],
   "source": [
    "print(transciprt[\"text\"])"
   ]
  },
  {
   "cell_type": "code",
   "execution_count": 11,
   "metadata": {},
   "outputs": [],
   "source": [
    "def transcribe_chunks(chunk_dir, destination):\n",
    "    files = sorted(glob(f\"{chunk_dir}/*.mp3\"))\n",
    "    for file in files:\n",
    "        with open(file, \"rb\") as audio_file, open(destination, \"a\") as text_file:\n",
    "            transciprt = openai.Audio.transcribe(\"whisper-1\", audio_file)\n",
    "            text_file.write(transciprt[\"text\"]+\"\\n\")"
   ]
  },
  {
   "cell_type": "code",
   "execution_count": 12,
   "metadata": {},
   "outputs": [],
   "source": [
    "transcribe_chunks(\"../files/sample_chunks\", \"../files/sample_text/sample_transcriptions.txt\")"
   ]
  },
  {
   "cell_type": "code",
   "execution_count": null,
   "metadata": {},
   "outputs": [],
   "source": []
  }
 ],
 "metadata": {
  "kernelspec": {
   "display_name": "fullstack-gpt",
   "language": "python",
   "name": "python3"
  },
  "language_info": {
   "codemirror_mode": {
    "name": "ipython",
    "version": 3
   },
   "file_extension": ".py",
   "mimetype": "text/x-python",
   "name": "python",
   "nbconvert_exporter": "python",
   "pygments_lexer": "ipython3",
   "version": "3.11.11"
  }
 },
 "nbformat": 4,
 "nbformat_minor": 2
}
