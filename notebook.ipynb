{
 "cells": [
  {
   "cell_type": "markdown",
   "metadata": {},
   "source": [
    "# 3.0 LLMS and Chat Models\n",
    "- 모두 predict로 텍스트 결과를 뽑을 수 있음.\n",
    "- 기본 모델이 다름.\n",
    "- chat_models가 좀 더 대회에 특화."
   ]
  },
  {
   "cell_type": "code",
   "execution_count": 8,
   "metadata": {},
   "outputs": [
    {
     "data": {
      "text/plain": [
       "'As of October 2023, there are 195 countries in the world. This total includes 193 member states of the United Nations and 2 observer states: the Holy See (Vatican City) and Palestine.'"
      ]
     },
     "execution_count": 8,
     "metadata": {},
     "output_type": "execute_result"
    }
   ],
   "source": [
    "# from langchain.llms.openai import OpenAI\n",
    "from langchain.chat_models import ChatOpenAI\n",
    "\n",
    "# llm = OpenAI(model=\"gpt-3.5-turbo-instruct\")\n",
    "\n",
    "chat = ChatOpenAI(model=\"gpt-4o-mini\")\n",
    "\n",
    "# llm_answer = llm.predict(\"How many countries in Earth?\")\n",
    "chat_answer = chat.predict(\"How many countries in Earth?\")\n",
    "\n",
    "chat_answer"
   ]
  },
  {
   "cell_type": "markdown",
   "metadata": {},
   "source": []
  }
 ],
 "metadata": {
  "kernelspec": {
   "display_name": "fullstack-gpt",
   "language": "python",
   "name": "python3"
  },
  "language_info": {
   "codemirror_mode": {
    "name": "ipython",
    "version": 3
   },
   "file_extension": ".py",
   "mimetype": "text/x-python",
   "name": "python",
   "nbconvert_exporter": "python",
   "pygments_lexer": "ipython3",
   "version": "3.11.11"
  }
 },
 "nbformat": 4,
 "nbformat_minor": 2
}
