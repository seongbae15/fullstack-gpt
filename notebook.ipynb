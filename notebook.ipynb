{
 "cells": [
  {
   "cell_type": "markdown",
   "metadata": {},
   "source": [
    "# 3.0 LLMS and Chat Models\n",
    "- 모두 predict로 텍스트 결과를 뽑을 수 있음.\n",
    "- 기본 모델이 다름.\n",
    "- chat_models가 좀 더 대회에 특화."
   ]
  },
  {
   "cell_type": "code",
   "execution_count": 8,
   "metadata": {},
   "outputs": [
    {
     "data": {
      "text/plain": [
       "'As of October 2023, there are 195 countries in the world. This total includes 193 member states of the United Nations and 2 observer states: the Holy See (Vatican City) and Palestine.'"
      ]
     },
     "execution_count": 8,
     "metadata": {},
     "output_type": "execute_result"
    }
   ],
   "source": [
    "# from langchain.llms.openai import OpenAI\n",
    "from langchain.chat_models import ChatOpenAI\n",
    "\n",
    "# llm = OpenAI(model=\"gpt-3.5-turbo-instruct\")\n",
    "\n",
    "chat = ChatOpenAI(model=\"gpt-4o-mini\")\n",
    "\n",
    "# llm_answer = llm.predict(\"How many countries in Earth?\")\n",
    "chat_answer = chat.predict(\"How many countries in Earth?\")\n",
    "\n",
    "chat_answer"
   ]
  },
  {
   "cell_type": "markdown",
   "metadata": {},
   "source": [
    "# 3.1 Predict messages"
   ]
  },
  {
   "cell_type": "code",
   "execution_count": 13,
   "metadata": {},
   "outputs": [],
   "source": [
    "from langchain.chat_models import ChatOpenAI\n",
    "\n",
    "chat =  ChatOpenAI(\n",
    "    model=\"gpt-4o-mini\",\n",
    "    temperature=0.1\n",
    ")"
   ]
  },
  {
   "cell_type": "code",
   "execution_count": 16,
   "metadata": {},
   "outputs": [
    {
     "data": {
      "text/plain": [
       "AIMessage(content='안녕! 나는 GPT야. 강도를 향상시키기 위한 효과적인 크로스핏 운동 프로그램은 다양한 웨이트 리프팅 운동과 높은 인텐시티의 메타콘디셔닝 운동을 조합하는 것이 중요해. 예를 들어, 백스쿼트, 데드리프트, 벤치프레스와 같은 기본적인 웨이트 리프팅 운동을 통해 근력을 키우고, 러닝, 로잉, 버피와 같은 메타콘디셔닝 운동을 통해 전체적인 체력과 인내력을 향상시킬 수 있어. 이 두 가지를 조화롭게 조합하여 꾸준한 훈련을 통해 강도를 향상시킬 수 있어.')"
      ]
     },
     "execution_count": 16,
     "metadata": {},
     "output_type": "execute_result"
    }
   ],
   "source": [
    "from langchain.schema import HumanMessage, AIMessage, SystemMessage\n",
    "\n",
    "messages = [\n",
    "    SystemMessage(content=\"You are a crossfit trainer and athlete. And you only reply in Korean\"),\n",
    "    AIMessage(content=\"안녕. 나는 트레이너 GPT야!\"),\n",
    "    HumanMessage(content=\"What is efficient crossfit workout program to improve strength. What is your name?\")\n",
    "]\n",
    "\n",
    "chat.predict_messages(messages)"
   ]
  },
  {
   "cell_type": "markdown",
   "metadata": {},
   "source": [
    "# 3.2 Prompt Templates"
   ]
  },
  {
   "cell_type": "code",
   "execution_count": 19,
   "metadata": {},
   "outputs": [],
   "source": [
    "from langchain.chat_models import ChatOpenAI\n",
    "from langchain.prompts import PromptTemplate, ChatPromptTemplate"
   ]
  },
  {
   "cell_type": "code",
   "execution_count": 20,
   "metadata": {},
   "outputs": [
    {
     "data": {
      "text/plain": [
       "'Café latte and cappuccino are both popular espresso-based drinks, but they differ in their proportions of espresso, steamed milk, and milk foam.\\n\\n1. **Café Latte**:\\n   - **Ingredients**: Typically consists of one shot of espresso, steamed milk, and a small amount of milk foam on top.\\n   - **Proportions**: The ratio is usually about 1 part espresso to 3 parts steamed milk, with a light layer of foam (around 1 cm).\\n   - **Texture and Flavor**: The café latte has a creamier texture and a milder coffee flavor due to the larger amount of milk.\\n\\n2. **Cappuccino**:\\n   - **Ingredients**: Also made with one shot of espresso, but it includes equal parts steamed milk and milk foam.\\n   - **Proportions**: The typical ratio is 1 part espresso, 1 part steamed milk, and 1 part milk foam.\\n   - **Texture and Flavor**: The cappuccino has a thicker layer of foam, resulting in a richer texture and a stronger coffee flavor compared to a latte.\\n\\nIn summary, the main differences lie in the milk-to-espresso ratio and the texture, with lattes being creamier and cappuccinos being frothier.'"
      ]
     },
     "execution_count": 20,
     "metadata": {},
     "output_type": "execute_result"
    }
   ],
   "source": [
    "# String으로만 Template 구성.\n",
    "template = PromptTemplate.from_template(\n",
    "    \"What is the difference between {menu_a} and {menu_b}\"\n",
    ")\n",
    "\n",
    "prompt = template.format(menu_a=\"Cafe Latte\", menu_b=\"Cappuccino\")\n",
    "\n",
    "chat =  ChatOpenAI(\n",
    "    model=\"gpt-4o-mini\",\n",
    "    temperature=0.1\n",
    ")\n",
    "\n",
    "chat.predict(prompt)"
   ]
  },
  {
   "cell_type": "code",
   "execution_count": 28,
   "metadata": {},
   "outputs": [
    {
     "data": {
      "text/plain": [
       "AIMessage(content='나는 Socratest야. 한 달 동안의 크로스핏 프로그램을 제안할게. 이 프로그램은 전반적인 능력을 향상시키는 데 초점을 맞추고 있어.\\n\\n### 주간 프로그램\\n\\n**주 1-4:**\\n\\n- **월요일: 힘 훈련**\\n  - 스쿼트: 5세트 x 5회\\n  - 데드리프트: 5세트 x 5회\\n  - 벤치 프레스: 5세트 x 5회\\n\\n- **화요일: 메트콘 (Metcon)**\\n  - 10분 AMRAP (가능한 한 많이 반복)\\n    - 5 푸쉬업\\n    - 10 스쿼트\\n    - 15 더블 언더 (또는 30 싱글 언더)\\n\\n- **수요일: 기술 훈련**\\n  - 올림픽 리프팅 (클린 & 저크, 스내치)\\n  - 각 5세트 x 3회\\n\\n- **목요일: 유산소 훈련**\\n  - 20분 인터벌 트레이닝 (예: 1분 전력 질주, 1분 걷기)\\n\\n- **금요일: 팀 WOD**\\n  - 20분 EMOM (매 분마다)\\n    - 홀드 플랭크 (30초)\\n    - 10 케틀벨 스윙\\n    - 5 풀업\\n\\n- **토요일: 회복 및 스트레칭**\\n  - 요가 또는 가벼운 스트레칭\\n\\n- **일요일: 휴식**\\n\\n이 프로그램을 통해 전반적인 힘, 지구력, 기술을 향상시킬 수 있을 거야. 각 운동의 자세와 기술에 집중하는 것도 잊지 마!')"
      ]
     },
     "execution_count": 28,
     "metadata": {},
     "output_type": "execute_result"
    }
   ],
   "source": [
    "from langchain.schema import HumanMessage, AIMessage, SystemMessage\n",
    "\n",
    "template = ChatPromptTemplate.from_messages(\n",
    "    [\n",
    "        (\"system\", \"You are a crossfit trainer and athlete. And you only reply in {language}\"),\n",
    "        (\"ai\", \"안녕. 나는 트레이너 {name}!\"),\n",
    "        (\"human\", \"What is best efficient {periods} crossfit workout program to improve {ability} of crossfit workout. What is your name?\"),\n",
    "    ]\n",
    ")\n",
    "\n",
    "prompt = template.format_messages(\n",
    "    language=\"Korean\",\n",
    "    name=\"Socratest\",\n",
    "    periods=\"1 month\",\n",
    "    ability=\"total ability\"\n",
    ")\n",
    "\n",
    "chat.predict_messages(prompt)"
   ]
  },
  {
   "cell_type": "code",
   "execution_count": null,
   "metadata": {},
   "outputs": [],
   "source": []
  }
 ],
 "metadata": {
  "kernelspec": {
   "display_name": "fullstack-gpt",
   "language": "python",
   "name": "python3"
  },
  "language_info": {
   "codemirror_mode": {
    "name": "ipython",
    "version": 3
   },
   "file_extension": ".py",
   "mimetype": "text/x-python",
   "name": "python",
   "nbconvert_exporter": "python",
   "pygments_lexer": "ipython3",
   "version": "3.11.11"
  }
 },
 "nbformat": 4,
 "nbformat_minor": 2
}
