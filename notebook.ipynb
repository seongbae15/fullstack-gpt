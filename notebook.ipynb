{
 "cells": [
  {
   "cell_type": "markdown",
   "metadata": {},
   "source": [
    "# 3.0 LLMS and Chat Models\n",
    "- 모두 predict로 텍스트 결과를 뽑을 수 있음.\n",
    "- 기본 모델이 다름.\n",
    "- chat_models가 좀 더 대회에 특화."
   ]
  },
  {
   "cell_type": "code",
   "execution_count": 8,
   "metadata": {},
   "outputs": [
    {
     "data": {
      "text/plain": [
       "'As of October 2023, there are 195 countries in the world. This total includes 193 member states of the United Nations and 2 observer states: the Holy See (Vatican City) and Palestine.'"
      ]
     },
     "execution_count": 8,
     "metadata": {},
     "output_type": "execute_result"
    }
   ],
   "source": [
    "# from langchain.llms.openai import OpenAI\n",
    "from langchain.chat_models import ChatOpenAI\n",
    "\n",
    "# llm = OpenAI(model=\"gpt-3.5-turbo-instruct\")\n",
    "\n",
    "chat = ChatOpenAI(model=\"gpt-4o-mini\")\n",
    "\n",
    "# llm_answer = llm.predict(\"How many countries in Earth?\")\n",
    "chat_answer = chat.predict(\"How many countries in Earth?\")\n",
    "\n",
    "chat_answer"
   ]
  },
  {
   "cell_type": "markdown",
   "metadata": {},
   "source": [
    "# 3.1 Predict messages"
   ]
  },
  {
   "cell_type": "code",
   "execution_count": 13,
   "metadata": {},
   "outputs": [],
   "source": [
    "from langchain.chat_models import ChatOpenAI\n",
    "\n",
    "chat =  ChatOpenAI(\n",
    "    model=\"gpt-4o-mini\",\n",
    "    temperature=0.1\n",
    ")"
   ]
  },
  {
   "cell_type": "code",
   "execution_count": 16,
   "metadata": {},
   "outputs": [
    {
     "data": {
      "text/plain": [
       "AIMessage(content='안녕! 나는 GPT야. 강도를 향상시키기 위한 효과적인 크로스핏 운동 프로그램은 다양한 웨이트 리프팅 운동과 높은 인텐시티의 메타콘디셔닝 운동을 조합하는 것이 중요해. 예를 들어, 백스쿼트, 데드리프트, 벤치프레스와 같은 기본적인 웨이트 리프팅 운동을 통해 근력을 키우고, 러닝, 로잉, 버피와 같은 메타콘디셔닝 운동을 통해 전체적인 체력과 인내력을 향상시킬 수 있어. 이 두 가지를 조화롭게 조합하여 꾸준한 훈련을 통해 강도를 향상시킬 수 있어.')"
      ]
     },
     "execution_count": 16,
     "metadata": {},
     "output_type": "execute_result"
    }
   ],
   "source": [
    "from langchain.schema import HumanMessage, AIMessage, SystemMessage\n",
    "\n",
    "messages = [\n",
    "    SystemMessage(content=\"You are a crossfit trainer and athlete. And you only reply in Korean\"),\n",
    "    AIMessage(content=\"안녕. 나는 트레이너 GPT야!\"),\n",
    "    HumanMessage(content=\"What is efficient crossfit workout program to improve strength. What is your name?\")\n",
    "]\n",
    "\n",
    "chat.predict_messages(messages)"
   ]
  },
  {
   "cell_type": "code",
   "execution_count": null,
   "metadata": {},
   "outputs": [],
   "source": []
  }
 ],
 "metadata": {
  "kernelspec": {
   "display_name": "fullstack-gpt",
   "language": "python",
   "name": "python3"
  },
  "language_info": {
   "codemirror_mode": {
    "name": "ipython",
    "version": 3
   },
   "file_extension": ".py",
   "mimetype": "text/x-python",
   "name": "python",
   "nbconvert_exporter": "python",
   "pygments_lexer": "ipython3",
   "version": "3.11.11"
  }
 },
 "nbformat": 4,
 "nbformat_minor": 2
}
