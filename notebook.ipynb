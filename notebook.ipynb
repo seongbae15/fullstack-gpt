{
 "cells": [
  {
   "cell_type": "code",
   "execution_count": 12,
   "metadata": {},
   "outputs": [],
   "source": [
    "# from langchain.llms.openai import OpenAI\n",
    "\n",
    "from langchain.chat_models import ChatOpenAI\n",
    "from langchain.schema import HumanMessage, AIMessage, SystemMessage\n",
    "from langchain.schema import BaseOutputParser\n",
    "from langchain.prompts import PromptTemplate, ChatPromptTemplate\n",
    "from langchain.callbacks import StreamingStdOutCallbackHandler"
   ]
  },
  {
   "cell_type": "markdown",
   "metadata": {},
   "source": [
    "# 3.0 LLMS and Chat Models\n",
    "- 모두 predict로 텍스트 결과를 뽑을 수 있음.\n",
    "- 기본 모델이 다름.\n",
    "- chat_models가 좀 더 대회에 특화."
   ]
  },
  {
   "cell_type": "code",
   "execution_count": 2,
   "metadata": {},
   "outputs": [
    {
     "data": {
      "text/plain": [
       "'As of my last update in October 2023, there are 195 countries in the world. This total includes 193 member states of the United Nations and 2 observer states: the Holy See (Vatican City) and Palestine. Please verify with a current source, as international recognition and political situations can change.'"
      ]
     },
     "execution_count": 2,
     "metadata": {},
     "output_type": "execute_result"
    }
   ],
   "source": [
    "# llm = OpenAI(model=\"gpt-3.5-turbo-instruct\")\n",
    "chat = ChatOpenAI(model=\"gpt-4o-mini\")\n",
    "\n",
    "# llm_answer = llm.predict(\"How many countries in Earth?\")\n",
    "chat_answer = chat.predict(\"How many countries in Earth?\")\n",
    "\n",
    "chat_answer"
   ]
  },
  {
   "cell_type": "markdown",
   "metadata": {},
   "source": [
    "# 3.1 Predict messages"
   ]
  },
  {
   "cell_type": "code",
   "execution_count": 3,
   "metadata": {},
   "outputs": [],
   "source": [
    "chat =  ChatOpenAI(\n",
    "    model=\"gpt-4o-mini\",\n",
    "    temperature=0.1\n",
    ")"
   ]
  },
  {
   "cell_type": "code",
   "execution_count": 4,
   "metadata": {},
   "outputs": [
    {
     "data": {
      "text/plain": [
       "AIMessage(content='효율적인 크로스핏 운동 프로그램은 다음과 같습니다:\\n\\n1. **웨이트 리프팅**: 스쿼트, 데드리프트, 벤치프레스와 같은 복합 운동을 포함하세요. 주 2-3회, 각 운동마다 3-5세트, 5-8회 반복하는 것이 좋습니다.\\n\\n2. **메인테넌스 WOD**: 주 2-3회, 중량을 사용한 WOD(Workout of the Day)를 진행하세요. 예를 들어, 10분 동안 최대한 많은 라운드를 수행하는 형식으로 진행할 수 있습니다.\\n\\n3. **오버헤드 운동**: 오버헤드 스쿼트, 밀리터리 프레스 등을 포함하여 어깨와 코어 근력을 강화하세요.\\n\\n4. **기초 체력 훈련**: 체중 운동(푸시업, 풀업, 딥스 등)을 포함하여 전반적인 근력을 향상시키세요.\\n\\n5. **휴식과 회복**: 충분한 휴식과 영양 섭취를 통해 근육 회복을 도와주세요.\\n\\n내 이름은 GPT야! 도움이 필요하면 언제든지 물어봐!')"
      ]
     },
     "execution_count": 4,
     "metadata": {},
     "output_type": "execute_result"
    }
   ],
   "source": [
    "messages = [\n",
    "    SystemMessage(content=\"You are a crossfit trainer and athlete. And you only reply in Korean\"),\n",
    "    AIMessage(content=\"안녕. 나는 트레이너 GPT야!\"),\n",
    "    HumanMessage(content=\"What is efficient crossfit workout program to improve strength. What is your name?\")\n",
    "]\n",
    "\n",
    "chat.predict_messages(messages)"
   ]
  },
  {
   "cell_type": "markdown",
   "metadata": {},
   "source": [
    "# 3.2 Prompt Templates"
   ]
  },
  {
   "cell_type": "code",
   "execution_count": 5,
   "metadata": {},
   "outputs": [
    {
     "data": {
      "text/plain": [
       "'Cafe Latte and Cappuccino are both popular espresso-based drinks, but they differ primarily in their milk-to-foam ratios and preparation methods.\\n\\n1. **Cafe Latte**:\\n   - **Ingredients**: Typically made with one shot of espresso and steamed milk, topped with a small amount of milk foam.\\n   - **Milk Ratio**: Contains more steamed milk compared to foam, usually about 1 part espresso to 3 parts steamed milk, with a thin layer of foam on top.\\n   - **Texture**: Creamy and smooth due to the larger volume of steamed milk.\\n\\n2. **Cappuccino**:\\n   - **Ingredients**: Also made with one shot of espresso, but it has equal parts steamed milk and milk foam.\\n   - **Milk Ratio**: Generally consists of 1 part espresso, 1 part steamed milk, and 1 part milk foam, creating a balanced drink.\\n   - **Texture**: Frothy and airy due to the thicker layer of foam, which gives it a lighter mouthfeel.\\n\\nIn summary, the main difference lies in the amount of steamed milk and foam used, resulting in different textures and flavors. A latte is creamier, while a cappuccino is frothier.'"
      ]
     },
     "execution_count": 5,
     "metadata": {},
     "output_type": "execute_result"
    }
   ],
   "source": [
    "# String으로만 Template 구성.\n",
    "template = PromptTemplate.from_template(\n",
    "    \"What is the difference between {menu_a} and {menu_b}\"\n",
    ")\n",
    "\n",
    "prompt = template.format(menu_a=\"Cafe Latte\", menu_b=\"Cappuccino\")\n",
    "\n",
    "chat =  ChatOpenAI(\n",
    "    model=\"gpt-4o-mini\",\n",
    "    temperature=0.1\n",
    ")\n",
    "\n",
    "chat.predict(prompt)"
   ]
  },
  {
   "cell_type": "code",
   "execution_count": 6,
   "metadata": {},
   "outputs": [
    {
     "data": {
      "text/plain": [
       "AIMessage(content='나는 Socratest야. 1개월 동안의 효율적인 크로스핏 운동 프로그램을 제안할게. 이 프로그램은 전반적인 크로스핏 능력을 향상시키는 데 초점을 맞추고 있어.\\n\\n### 주간 프로그램\\n\\n**주 1-4:**\\n\\n- **월요일: 힘 훈련**\\n  - 스쿼트: 5세트 x 5회\\n  - 데드리프트: 5세트 x 5회\\n  - 벤치 프레스: 5세트 x 5회\\n\\n- **화요일: 메트콘 (Metcon)**\\n  - 10분 AMRAP (가능한 한 많이 반복)\\n    - 5 푸쉬업\\n    - 10 스쿼트\\n    - 15 더블 언더 (또는 30 싱글 언더)\\n\\n- **수요일: 기술 훈련**\\n  - 올림픽 리프팅 (클린 & 저크): 5세트 x 3회\\n  - 스내치: 5세트 x 3회\\n\\n- **목요일: 유산소 훈련**\\n  - 20분 동안의 인터벌 트레이닝 (예: 1분 전력 질주, 1분 걷기)\\n\\n- **금요일: 팀 WOD (Workout of the Day)**\\n  - 20분 EMOM (매 분마다)\\n    - 홀드 플랭크 30초\\n    - 10 바벨 스내치\\n\\n- **토요일: 기능적 훈련**\\n  - 3세트 x 10회\\n    - 턱걸이\\n    - 푸쉬 프레스\\n    - 박스 점프\\n\\n- **일요일: 휴식 또는 가벼운 스트레칭**\\n\\n### 추가 팁\\n- 매일 충분한 수분 섭취와 영양 섭취를 잊지 마세요.\\n- 각 운동 전후로 충분한 워밍업과 쿨다운을 하세요.\\n- 자신의 체력 수준에 맞게 운동 강도를 조절하세요.\\n\\n이 프로그램을 통해 크로스핏 능력을 향상시킬 수 있을 거야!')"
      ]
     },
     "execution_count": 6,
     "metadata": {},
     "output_type": "execute_result"
    }
   ],
   "source": [
    "template = ChatPromptTemplate.from_messages(\n",
    "    [\n",
    "        (\"system\", \"You are a crossfit trainer and athlete. And you only reply in {language}\"),\n",
    "        (\"ai\", \"안녕. 나는 트레이너 {name}!\"),\n",
    "        (\"human\", \"What is best efficient {periods} crossfit workout program to improve {ability} of crossfit workout. What is your name?\"),\n",
    "    ]\n",
    ")\n",
    "\n",
    "prompt = template.format_messages(\n",
    "    language=\"Korean\",\n",
    "    name=\"Socratest\",\n",
    "    periods=\"1 month\",\n",
    "    ability=\"total ability\"\n",
    ")\n",
    "\n",
    "chat.predict_messages(prompt)"
   ]
  },
  {
   "cell_type": "markdown",
   "metadata": {},
   "source": [
    "# 3.3 Outputparser and LCEL"
   ]
  },
  {
   "cell_type": "code",
   "execution_count": 7,
   "metadata": {},
   "outputs": [],
   "source": [
    "class CommaOutputParser(BaseOutputParser):\n",
    "    def parse(self, text):\n",
    "        items = text.strip().split(\",\")\n",
    "        return list(map(str.strip, items))\n",
    "    \n",
    "p = CommaOutputParser()"
   ]
  },
  {
   "cell_type": "code",
   "execution_count": 8,
   "metadata": {},
   "outputs": [
    {
     "data": {
      "text/plain": [
       "['주 1회: 스쿼트',\n",
       " '데드리프트',\n",
       " '벤치프레스',\n",
       " '풀업',\n",
       " '더블 언더',\n",
       " '버피',\n",
       " '오버헤드 스쿼트',\n",
       " '로우',\n",
       " '클린',\n",
       " '스내치',\n",
       " '내 이름은 Socratest!']"
      ]
     },
     "execution_count": 8,
     "metadata": {},
     "output_type": "execute_result"
    }
   ],
   "source": [
    "chat =  ChatOpenAI(\n",
    "    model=\"gpt-4o-mini\",\n",
    "    temperature=0.1\n",
    ")\n",
    "\n",
    "template = ChatPromptTemplate.from_messages(\n",
    "    [\n",
    "        (\"system\", \"You are a crossfit trainer and athlete. And you only reply in {language}. Everything you are asked will be answered with a comma sepeerated list of max {max_items}.\"),\n",
    "        (\"ai\", \"안녕. 나는 트레이너 {name}!\"),\n",
    "        (\"human\", \"What is best efficient {periods} crossfit workout program to improve {ability} of crossfit workout. What is your name?\"),\n",
    "    ]\n",
    ")\n",
    "\n",
    "prompt = template.format_messages(\n",
    "    language=\"Korean\",\n",
    "    max_items=10,\n",
    "    name=\"Socratest\",\n",
    "    periods=\"1 month\",\n",
    "    ability=\"total ability\"\n",
    ")\n",
    "\n",
    "result = chat.predict_messages(prompt)\n",
    "\n",
    "p.parse(result.content)"
   ]
  },
  {
   "cell_type": "code",
   "execution_count": 9,
   "metadata": {},
   "outputs": [
    {
     "data": {
      "text/plain": [
       "['주 1회 스쿼트', '주 1회 데드리프트', '주 1회 오버헤드 프레스', '주 1회 체중 운동', '주 1회 메트콘.']"
      ]
     },
     "execution_count": 9,
     "metadata": {},
     "output_type": "execute_result"
    }
   ],
   "source": [
    "chain = template | chat | CommaOutputParser()\n",
    "\n",
    "chain.invoke({\n",
    "    \"language\":\"Korean\",\n",
    "    \"max_items\":5,\n",
    "    \"name\":\"Socratest\",\n",
    "    \"periods\":\"1 month\",\n",
    "    \"ability\":\"total ability\"\n",
    "})"
   ]
  },
  {
   "cell_type": "markdown",
   "metadata": {},
   "source": [
    "# 3.4 Chaining Chains"
   ]
  },
  {
   "cell_type": "code",
   "execution_count": 14,
   "metadata": {},
   "outputs": [
    {
     "name": "stdout",
     "output_type": "stream",
     "text": [
      "Great choice! Japanese cuisine is known for its fresh ingredients and delicate flavors. Here’s a simple recipe for **Teriyaki Chicken**, a popular dish that’s easy to make at home.\n",
      "\n",
      "### Teriyaki Chicken Recipe\n",
      "\n",
      "#### Ingredients:\n",
      "- 2 boneless, skinless chicken breasts\n",
      "- Salt and pepper (to taste)\n",
      "- 2 tablespoons vegetable oil\n",
      "- 1/4 cup soy sauce\n",
      "- 2 tablespoons mirin (Japanese sweet rice wine) or honey\n",
      "- 1 tablespoon sake (optional)\n",
      "- 1 tablespoon sugar\n",
      "- 1 teaspoon grated ginger (fresh or powdered)\n",
      "- 1 teaspoon minced garlic (optional)\n",
      "- Sesame seeds (for garnish)\n",
      "- Chopped green onions (for garnish)\n",
      "- Cooked rice (for serving)\n",
      "\n",
      "#### Instructions:\n",
      "\n",
      "1. **Prepare the Chicken:**\n",
      "   - Pat the chicken breasts dry with paper towels. Season both sides with salt and pepper.\n",
      "\n",
      "2. **Make the Teriyaki Sauce:**\n",
      "   - In a small bowl, mix together the soy sauce, mirin (or honey), sake (if using), sugar, ginger, and garlic. Stir until the sugar is dissolved.\n",
      "\n",
      "3. **Cook the Chicken:**\n",
      "   - Heat the vegetable oil in a large skillet over medium-high heat. Add the chicken breasts and cook for about 5-7 minutes on each side, or until they are golden brown and cooked through (internal temperature should reach 165°F or 75°C).\n",
      "\n",
      "4. **Add the Sauce:**\n",
      "   - Once the chicken is cooked, pour the teriyaki sauce over the chicken in the skillet. Reduce the heat to medium and let it simmer for about 2-3 minutes, turning the chicken to coat it evenly in the sauce. The sauce will thicken slightly.\n",
      "\n",
      "5. **Serve:**\n",
      "   - Remove the chicken from the skillet and slice it into strips. Drizzle any remaining sauce from the skillet over the chicken. \n",
      "   - Serve the teriyaki chicken over cooked rice and garnish with sesame seeds and chopped green onions.\n",
      "\n",
      "### Tips:\n",
      "- You can add vegetables like broccoli, bell peppers, or snap peas to the skillet while cooking the chicken for a complete meal.\n",
      "- If you prefer, you can substitute chicken with tofu or salmon for a different protein option.\n",
      "\n",
      "Enjoy your homemade Teriyaki Chicken! If you have any other Japanese dishes in mind or need further assistance, feel free to ask!Great choice! To make a vegetarian version of **Teriyaki Chicken**, we can substitute the chicken with tofu, which will absorb the flavors of the teriyaki sauce beautifully. Here’s how to prepare it:\n",
      "\n",
      "### Vegetarian Teriyaki Tofu Recipe\n",
      "\n",
      "#### Ingredients:\n",
      "- 2 blocks of firm or extra-firm tofu\n",
      "- Salt and pepper (to taste)\n",
      "- 2 tablespoons vegetable oil\n",
      "- 1/4 cup soy sauce\n",
      "- 2 tablespoons mirin (Japanese sweet rice wine) or honey\n",
      "- 1 tablespoon sake (optional)\n",
      "- 1 tablespoon sugar\n",
      "- 1 teaspoon grated ginger (fresh or powdered)\n",
      "- 1 teaspoon minced garlic (optional)\n",
      "- Sesame seeds (for garnish)\n",
      "- Chopped green onions (for garnish)\n",
      "- Cooked rice (for serving)\n",
      "\n",
      "#### Instructions:\n",
      "\n",
      "1. **Prepare the Tofu:**\n",
      "   - Drain the tofu and press it to remove excess moisture. You can do this by wrapping it in a clean kitchen towel and placing a heavy object on top for about 15-20 minutes. Once pressed, cut the tofu into slices or cubes, depending on your preference. Season with salt and pepper.\n",
      "\n",
      "2. **Make the Teriyaki Sauce:**\n",
      "   - In a small bowl, mix together the soy sauce, mirin (or honey), sake (if using), sugar, ginger, and garlic. Stir until the sugar is dissolved.\n",
      "\n",
      "3. **Cook the Tofu:**\n",
      "   - Heat the vegetable oil in a large skillet over medium-high heat. Add the tofu pieces and cook for about 5-7 minutes on each side, or until they are golden brown and crispy.\n",
      "\n",
      "4. **Add the Sauce:**\n",
      "   - Once the tofu is cooked, pour the teriyaki sauce over the tofu in the skillet. Reduce the heat to medium and let it simmer for about 2-3 minutes, turning the tofu to coat it evenly in the sauce. The sauce will thicken slightly.\n",
      "\n",
      "5. **Serve:**\n",
      "   - Remove the tofu from the skillet and place it on a serving plate. Drizzle any remaining sauce from the skillet over the tofu. \n",
      "   - Serve the teriyaki tofu over cooked rice and garnish with sesame seeds and chopped green onions.\n",
      "\n",
      "### Tips:\n",
      "- You can add vegetables like broccoli, bell peppers, or snap peas to the skillet while cooking the tofu for a complete meal.\n",
      "- For added texture, you can marinate the tofu in the teriyaki sauce for 30 minutes before cooking.\n",
      "\n",
      "Enjoy your homemade Vegetarian Teriyaki Tofu! If you have any other Japanese dishes in mind or need further assistance, feel free to ask!"
     ]
    },
    {
     "data": {
      "text/plain": [
       "AIMessageChunk(content='Great choice! To make a vegetarian version of **Teriyaki Chicken**, we can substitute the chicken with tofu, which will absorb the flavors of the teriyaki sauce beautifully. Here’s how to prepare it:\\n\\n### Vegetarian Teriyaki Tofu Recipe\\n\\n#### Ingredients:\\n- 2 blocks of firm or extra-firm tofu\\n- Salt and pepper (to taste)\\n- 2 tablespoons vegetable oil\\n- 1/4 cup soy sauce\\n- 2 tablespoons mirin (Japanese sweet rice wine) or honey\\n- 1 tablespoon sake (optional)\\n- 1 tablespoon sugar\\n- 1 teaspoon grated ginger (fresh or powdered)\\n- 1 teaspoon minced garlic (optional)\\n- Sesame seeds (for garnish)\\n- Chopped green onions (for garnish)\\n- Cooked rice (for serving)\\n\\n#### Instructions:\\n\\n1. **Prepare the Tofu:**\\n   - Drain the tofu and press it to remove excess moisture. You can do this by wrapping it in a clean kitchen towel and placing a heavy object on top for about 15-20 minutes. Once pressed, cut the tofu into slices or cubes, depending on your preference. Season with salt and pepper.\\n\\n2. **Make the Teriyaki Sauce:**\\n   - In a small bowl, mix together the soy sauce, mirin (or honey), sake (if using), sugar, ginger, and garlic. Stir until the sugar is dissolved.\\n\\n3. **Cook the Tofu:**\\n   - Heat the vegetable oil in a large skillet over medium-high heat. Add the tofu pieces and cook for about 5-7 minutes on each side, or until they are golden brown and crispy.\\n\\n4. **Add the Sauce:**\\n   - Once the tofu is cooked, pour the teriyaki sauce over the tofu in the skillet. Reduce the heat to medium and let it simmer for about 2-3 minutes, turning the tofu to coat it evenly in the sauce. The sauce will thicken slightly.\\n\\n5. **Serve:**\\n   - Remove the tofu from the skillet and place it on a serving plate. Drizzle any remaining sauce from the skillet over the tofu. \\n   - Serve the teriyaki tofu over cooked rice and garnish with sesame seeds and chopped green onions.\\n\\n### Tips:\\n- You can add vegetables like broccoli, bell peppers, or snap peas to the skillet while cooking the tofu for a complete meal.\\n- For added texture, you can marinate the tofu in the teriyaki sauce for 30 minutes before cooking.\\n\\nEnjoy your homemade Vegetarian Teriyaki Tofu! If you have any other Japanese dishes in mind or need further assistance, feel free to ask!')"
      ]
     },
     "execution_count": 14,
     "metadata": {},
     "output_type": "execute_result"
    }
   ],
   "source": [
    "chat =  ChatOpenAI(\n",
    "    model=\"gpt-4o-mini\",\n",
    "    temperature=0.1,\n",
    "    streaming=True,\n",
    "    callbacks=[StreamingStdOutCallbackHandler()]\n",
    ")\n",
    "\n",
    "chef_prompt= ChatPromptTemplate.from_messages([\n",
    "    (\"system\", \"You are a world-class international chef. You create easy to follow recipies for any type of cuisine with easy to find ingredients.\"),\n",
    "    (\"human\", \"I want to cook {cuisine} food.\")\n",
    "])\n",
    "\n",
    "chef_chain = chef_prompt | chat\n",
    "\n",
    "\n",
    "veg_chef_prompt = ChatPromptTemplate.from_messages([\n",
    "    (\"system\", \"You are a vegetarian chef specialized on making traditional recipes vegetarian. You find alternative ingredients and explain their preparation. You don't radically modify the recipe. If there is no alternative for a food just say you don't know how to recipe it.\"),\n",
    "    (\"human\", \"{recipe}\")\n",
    "])\n",
    "\n",
    "veg_chain = veg_chef_prompt | chat\n",
    "\n",
    "final_chain = {\"recipe\": chef_chain} | veg_chain\n",
    "\n",
    "final_chain.invoke(\n",
    "    {\n",
    "        \"cuisine\": \"japanese\"\n",
    "    }\n",
    ")\n",
    "\n"
   ]
  },
  {
   "cell_type": "code",
   "execution_count": null,
   "metadata": {},
   "outputs": [],
   "source": []
  }
 ],
 "metadata": {
  "kernelspec": {
   "display_name": "fullstack-gpt",
   "language": "python",
   "name": "python3"
  },
  "language_info": {
   "codemirror_mode": {
    "name": "ipython",
    "version": 3
   },
   "file_extension": ".py",
   "mimetype": "text/x-python",
   "name": "python",
   "nbconvert_exporter": "python",
   "pygments_lexer": "ipython3",
   "version": "3.11.11"
  }
 },
 "nbformat": 4,
 "nbformat_minor": 2
}
